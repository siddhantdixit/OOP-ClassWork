{
 "cells": [
  {
   "cell_type": "markdown",
   "source": [
    "<!-- [![Open In Colab](https://colab.research.google.com/assets/colab-badge.svg)](https://colab.research.google.com/github/siddhantdixit/OOP-ClassWork/blob/main/Python-Quiz1.ipynb) -->\r\n",
    "\r\n",
    "<a href=\"https://colab.research.google.com/github/googlecolab/colabtools/blob/master/notebooks/colab-github-demo.ipynb\" target=\"_blank\">\r\n",
    "  <img src=\"https://colab.research.google.com/assets/colab-badge.svg\" alt=\"Open In Colab\"/>\r\n",
    "</a>\r\n",
    "\r\n",
    "# Python Quiz 1"
   ],
   "metadata": {}
  },
  {
   "cell_type": "markdown",
   "source": [
    "## A. Primitive Types\r\n",
    "\r\n",
    "<br>\r\n",
    "\r\n",
    "> **1. What is a variable?**\r\n",
    "\r\n",
    "Variables are the names you assign to the memory locations in a computer programme that are used to hold values."
   ],
   "metadata": {}
  },
  {
   "cell_type": "code",
   "execution_count": 13,
   "source": [
    "x = 5\r\n",
    "print(x)"
   ],
   "outputs": [
    {
     "output_type": "stream",
     "name": "stdout",
     "text": [
      "5\n"
     ]
    }
   ],
   "metadata": {}
  },
  {
   "cell_type": "markdown",
   "source": [
    "> **2. What are the primitive built-in types in Python?**\r\n",
    "\r\n",
    "Python has 4 primitive types: integers, floats, booleans and strings."
   ],
   "metadata": {}
  },
  {
   "cell_type": "code",
   "execution_count": 14,
   "source": [
    "a = 123\r\n",
    "b = 3.4\r\n",
    "c = False\r\n",
    "d = \"siddhant\"\r\n",
    "print(a,type(a))\r\n",
    "print(b,type(b))\r\n",
    "print(c,type(c))\r\n",
    "print(d,type(d))"
   ],
   "outputs": [
    {
     "output_type": "stream",
     "name": "stdout",
     "text": [
      "123 <class 'int'>\n",
      "3.4 <class 'float'>\n",
      "False <class 'bool'>\n",
      "siddhant <class 'str'>\n"
     ]
    }
   ],
   "metadata": {}
  },
  {
   "cell_type": "markdown",
   "source": [
    "> **3. When should we use “”” (tripe quotes) to define strings?**"
   ],
   "metadata": {}
  },
  {
   "cell_type": "code",
   "execution_count": 12,
   "source": [],
   "outputs": [
    {
     "output_type": "stream",
     "name": "stdout",
     "text": [
      "soid\n"
     ]
    }
   ],
   "metadata": {}
  },
  {
   "cell_type": "markdown",
   "source": [
    "> **4. Assuming (name = “Ananda Vihar”), what does name[1] return?**\r\n",
    "\r\n",
    "'n' at index 1"
   ],
   "metadata": {}
  },
  {
   "cell_type": "code",
   "execution_count": 17,
   "source": [
    "name = \"Ananda Vihar\"\r\n",
    "print(name[1])"
   ],
   "outputs": [
    {
     "output_type": "stream",
     "name": "stdout",
     "text": [
      "n\n"
     ]
    }
   ],
   "metadata": {}
  },
  {
   "cell_type": "markdown",
   "source": [
    "> **5. What about name[-2]?**\r\n",
    "\r\n",
    "name[-2] will return character at second index from last\r\n",
    "i.e 'a' "
   ],
   "metadata": {}
  },
  {
   "cell_type": "code",
   "execution_count": 18,
   "source": [
    "print(name[-2])"
   ],
   "outputs": [
    {
     "output_type": "stream",
     "name": "stdout",
     "text": [
      "a\n"
     ]
    }
   ],
   "metadata": {}
  },
  {
   "cell_type": "markdown",
   "source": [
    "> **6. What about name[1:-1]?**\r\n",
    "\r\n",
    "It will return substring starting from index 1 i.e n to the last index but (excluding the last index)."
   ],
   "metadata": {}
  },
  {
   "cell_type": "code",
   "execution_count": 22,
   "source": [
    "print(name[1:-1])"
   ],
   "outputs": [
    {
     "output_type": "stream",
     "name": "stdout",
     "text": [
      "nanda Viha\n"
     ]
    }
   ],
   "metadata": {}
  }
 ],
 "metadata": {
  "kernelspec": {
   "name": "python3",
   "display_name": "Python 3.9.4 64-bit"
  },
  "language_info": {
   "codemirror_mode": {
    "name": "ipython",
    "version": 3
   },
   "file_extension": ".py",
   "mimetype": "text/x-python",
   "name": "python",
   "nbconvert_exporter": "python",
   "pygments_lexer": "ipython3",
   "version": "3.9.4"
  },
  "interpreter": {
   "hash": "558802ee62ad00077b1e13aabce3970070a978d35856ddf482faf180fa7e2679"
  }
 },
 "nbformat": 4,
 "nbformat_minor": 4
}
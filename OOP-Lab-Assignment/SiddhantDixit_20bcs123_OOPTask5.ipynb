{
  "cells": [
    {
      "cell_type": "markdown",
      "metadata": {},
      "source": [
        "<a href=\"https://colab.research.google.com/github/siddhantdixit/OOP-ClassWork/blob/main/OOP-Lab-Assignment/SiddhantDixit_20bcs123_OOPTask5.ipynb\" target=\"_parent\"><img src=\"https://colab.research.google.com/assets/colab-badge.svg\" alt=\"Open In Colab\"/></a>"
      ]
    },
    {
      "cell_type": "markdown",
      "metadata": {
        "id": "oIQUltimtYOm"
      },
      "source": [
        "# OOP Lab Assignment 5\n",
        "\n",
        "## Question 1\n",
        "Write a Python programme to create the parent class shape, derive the subclasses circle,\n",
        "square, and rectangle from the class shape, and demonstrate polymorphism in inheritance\n",
        "using a member function area ().\n",
        "\n"
      ]
    },
    {
      "cell_type": "code",
      "execution_count": 32,
      "metadata": {
        "colab": {
          "base_uri": "https://localhost:8080/"
        },
        "id": "2DeHLByBt4sE",
        "outputId": "2e262656-1b41-4c5e-d146-173d2698c56e"
      },
      "outputs": [
        {
          "name": "stdout",
          "output_type": "stream",
          "text": [
            "Area of Square     =  25\n",
            "Area of Circle     =  314.1592653589793\n",
            "Area of Rectangle  =  50\n"
          ]
        }
      ],
      "source": [
        "from abc import ABC, abstractmethod\n",
        "from math import pi\n",
        "\n",
        "\n",
        "class Shape(ABC):\n",
        "\n",
        "    @abstractmethod\n",
        "    def area():\n",
        "        pass\n",
        "\n",
        "\n",
        "class Circle(Shape):\n",
        "    def __init__(self, radius):\n",
        "        self.radius = radius\n",
        "\n",
        "    def area(self) -> float:\n",
        "        return pi*(self.radius**2)\n",
        "\n",
        "\n",
        "class Square(Shape):\n",
        "    def __init__(self, side):\n",
        "        self.side = side\n",
        "\n",
        "    def area(self) -> float:\n",
        "        return self.side**2\n",
        "\n",
        "\n",
        "class Rectangle(Shape):\n",
        "    def __init__(self, length, breadth):\n",
        "        self.l = length\n",
        "        self.b = breadth\n",
        "\n",
        "    def area(self) -> float:\n",
        "        return self.l*self.b\n",
        "\n",
        "\n",
        "S = Square(5)\n",
        "C = Circle(10)\n",
        "R = Rectangle(5, 10)\n",
        "\n",
        "print(\"Area of Square     = \", S.area())\n",
        "print(\"Area of Circle     = \", C.area())\n",
        "print(\"Area of Rectangle  = \", R.area())\n"
      ]
    },
    {
      "cell_type": "markdown",
      "metadata": {
        "id": "bJqkk4TDhlou"
      },
      "source": [
        "## Question 2\n",
        "\n",
        "The family has decided to travel by road from Dharwad to Belagavi, and they have\n",
        "chosen to estimate the cost before starting on this journey. Write python code to create\n",
        "the parent class Travel with member functions include the number of passengers, the\n",
        "distance travelled, and the mode of transportation. Derive two subclasses, train and bus,\n",
        "from the parent class, each with a member function that calculates the cost of trip. Also,\n",
        "keep the numbers of passengers as a private member of the parent class and try to access\n",
        "it through the child class to estimate costs.\n",
        "[Note: Assume cost of travelling/person through train = 60 rs, cost of travelling /person\n",
        "through bus= 100 rs]."
      ]
    },
    {
      "cell_type": "code",
      "execution_count": 33,
      "metadata": {
        "colab": {
          "base_uri": "https://localhost:8080/"
        },
        "id": "i-QlEqvhhmqk",
        "outputId": "da5f8264-cef7-46c1-f745-5a90686c0468"
      },
      "outputs": [
        {
          "name": "stdout",
          "output_type": "stream",
          "text": [
            "Cost of Travelling in a Bus is : Rs. 800\n",
            "Cost of Travelling in a Train is : Rs. 240\n"
          ]
        }
      ],
      "source": [
        "class Travel:\n",
        "    def __init__(self,no_of_passengers,distance,mode_of_transportation,cost_per_person):\n",
        "        self.__passengers = no_of_passengers\n",
        "        self._dist_travel = distance\n",
        "        self._modeoftrans = mode_of_transportation\n",
        "        self.cost = cost_per_person\n",
        "\n",
        "    def getpeople(self):\n",
        "        return self.__passengers\n",
        "\n",
        "class Train(Travel):\n",
        "    def __init__(self,no_of_passengers,distance,cost_per_person = 60):\n",
        "        super().__init__(no_of_passengers,distance,\"Train\",cost_per_person)\n",
        "\n",
        "    def tripcost(self)->float:\n",
        "        return self.cost * super().getpeople()\n",
        "\n",
        "class Bus(Travel):\n",
        "    def __init__(self,no_of_passengers,distance,cost_per_person = 100):\n",
        "        super().__init__(no_of_passengers,distance,\"Bus\",cost_per_person)\n",
        "\n",
        "    def tripcost(self)->float:\n",
        "        return self.cost * super().getpeople()\n",
        "\n",
        "family1 = Bus(8,300)\n",
        "family2 = Train(4,500)\n",
        "\n",
        "print(f\"Cost of Travelling in a {str(type(family1).__name__)} is : Rs. {family1.tripcost()}\"  )\n",
        "print(f\"Cost of Travelling in a {str(type(family2).__name__)} is : Rs. {family2.tripcost()}\"  )"
      ]
    },
    {
      "cell_type": "markdown",
      "metadata": {
        "id": "JCBosQfvh2W0"
      },
      "source": [
        "## Question 3\n",
        "\n",
        "Assume that there a class Car with model number as its member variable. Write a python\n",
        "program to swap the values of model number in Car objects c1 and c2."
      ]
    },
    {
      "cell_type": "code",
      "execution_count": 34,
      "metadata": {
        "colab": {
          "base_uri": "https://localhost:8080/"
        },
        "id": "K4NaAQgHh77l",
        "outputId": "c3905db8-70aa-45f1-caf6-aa2710c6d0bc"
      },
      "outputs": [
        {
          "name": "stdout",
          "output_type": "stream",
          "text": [
            "Before Swapping :\n",
            "Lykan Hypersport Bugatti Chiron\n",
            "\n",
            "\n",
            "\n",
            "After Swapping :\n",
            "Bugatti Chiron Lykan Hypersport\n"
          ]
        }
      ],
      "source": [
        "class Car:\n",
        "    def __init__(self,model_no):\n",
        "        self.model_num = model_no\n",
        "\n",
        "    @classmethod\n",
        "    def swap(cls,a,b):\n",
        "        a.model_num,b.model_num = b.model_num, a.model_num\n",
        "\n",
        "x = Car(\"Lykan Hypersport\")\n",
        "y = Car(\"Bugatti Chiron\")\n",
        "\n",
        "\n",
        "print(\"Before Swapping :\")\n",
        "print(x.model_num, y.model_num)\n",
        "\n",
        "Car.swap(x,y)\n",
        "print(\"\\n\\n\")\n",
        "\n",
        "print(\"After Swapping :\")\n",
        "print(x.model_num, y.model_num)"
      ]
    }
  ],
  "metadata": {
    "colab": {
      "name": "SiddhantDixit_20bcs123_OOPTask3.ipynb",
      "provenance": []
    },
    "interpreter": {
      "hash": "558802ee62ad00077b1e13aabce3970070a978d35856ddf482faf180fa7e2679"
    },
    "kernelspec": {
      "display_name": "Python 3.9.4 64-bit",
      "name": "python3"
    },
    "language_info": {
      "codemirror_mode": {
        "name": "ipython",
        "version": 3
      },
      "file_extension": ".py",
      "mimetype": "text/x-python",
      "name": "python",
      "nbconvert_exporter": "python",
      "pygments_lexer": "ipython3",
      "version": "3.9.4"
    }
  },
  "nbformat": 4,
  "nbformat_minor": 0
}

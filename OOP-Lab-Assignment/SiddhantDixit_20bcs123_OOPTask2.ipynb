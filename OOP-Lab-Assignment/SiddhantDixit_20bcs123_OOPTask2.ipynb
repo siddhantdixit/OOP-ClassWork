{
  "nbformat": 4,
  "nbformat_minor": 2,
  "metadata": {
    "colab": {
      "name": "OOP-Assignment-II.ipynb",
      "provenance": [],
      "collapsed_sections": []
    },
    "kernelspec": {
      "name": "python3",
      "display_name": "Python 3"
    },
    "language_info": {
      "name": "python"
    }
  },
  "cells": [
    {
      "cell_type": "markdown",
      "source": [
        "<a href=\"https://colab.research.google.com/github/siddhantdixit/OOP-ClassWork/blob/main/OOP-Lab-Assignment/SiddhantDixit_20bcs123_OOPTask2.ipynb\" target=\"_parent\"><img src=\"https://colab.research.google.com/assets/colab-badge.svg\" alt=\"Open In Colab\"/></a>"
      ],
      "metadata": {}
    },
    {
      "cell_type": "markdown",
      "source": [
        "# Program 1"
      ],
      "metadata": {
        "id": "AdYlWul9BiST"
      }
    },
    {
      "cell_type": "code",
      "execution_count": null,
      "source": [
        "# Program 1\r\n",
        "\r\n",
        "import math\r\n",
        "class Circle:\r\n",
        "  def __init__(self,radius):\r\n",
        "    self.radius = radius\r\n",
        "  \r\n",
        "  def getArea(self)->float:\r\n",
        "    return math.pi*((self.radius)**2)\r\n",
        "  \r\n",
        "  def getPerimeter(self)->float:\r\n",
        "    return 2*(math.pi)*self.radius\r\n",
        "  \r\n",
        "myr = float(input(\"Enter the radius -> \"))\r\n",
        "myc = Circle(myr)\r\n",
        "print(\"Area of Circle -> \",myc.getArea())\r\n",
        "print(\"Area of Perimeter -> \",myc.getPerimeter())"
      ],
      "outputs": [
        {
          "output_type": "stream",
          "name": "stdout",
          "text": [
            "Enter the radius -> 20\n",
            "Area of Circle ->  1256.6370614359173\n",
            "Area of Perimeter ->  125.66370614359172\n"
          ]
        }
      ],
      "metadata": {
        "colab": {
          "base_uri": "https://localhost:8080/"
        },
        "id": "wBeFvQ_nBNBB",
        "outputId": "0e9c385c-5622-4136-f10b-4aa158ecc1a2"
      }
    },
    {
      "cell_type": "markdown",
      "source": [
        "# Program 2"
      ],
      "metadata": {
        "id": "LEWRCKx3BmDr"
      }
    },
    {
      "cell_type": "code",
      "execution_count": null,
      "source": [
        "# Program 2\r\n",
        "\r\n",
        "class Faculty:\r\n",
        "\r\n",
        "    def __init__(self,name:str,empId:int,branch:str,salary:float):\r\n",
        "        self.name = name\r\n",
        "        self.empId = empId\r\n",
        "        self.branch = branch\r\n",
        "        self.salary = salary\r\n",
        "    \r\n",
        "\r\n",
        "myFaculty = []\r\n",
        "total = 3\r\n",
        "\r\n",
        "for i in range(total):\r\n",
        "    print(\"\\n\\n#\",(i+1),\" data\\n\\n\")\r\n",
        "    \r\n",
        "    name = input(\"Enter name -> \")\r\n",
        "    empId = int(input(\"Enter employeeId -> \"))\r\n",
        "    branch = input(\"Enter branch -> \")\r\n",
        "    salary = input(\"Enter salary -> \")\r\n",
        "    myf = Faculty(name,empId,branch,salary)\r\n",
        "    myFaculty.append(myf)\r\n",
        "\r\n",
        "for member in myFaculty:\r\n",
        "    print(member.name,member.empId,member.branch,member.salary)"
      ],
      "outputs": [
        {
          "output_type": "stream",
          "name": "stdout",
          "text": [
            "\n",
            "\n",
            "# 1  data\n",
            "\n",
            "\n",
            "Enter name -> Siddhant\n",
            "Enter employeeId -> 4135\n",
            "Enter branch -> CSE\n",
            "Enter salary -> 9999999999999\n",
            "\n",
            "\n",
            "# 2  data\n",
            "\n",
            "\n",
            "Enter name -> Sarthak\n",
            "Enter employeeId -> 8391\n",
            "Enter branch -> MECH\n",
            "Enter salary -> 999999999999999\n",
            "\n",
            "\n",
            "# 3  data\n",
            "\n",
            "\n",
            "Enter name -> Priya\n",
            "Enter employeeId -> 4136\n",
            "Enter branch -> CSE\n",
            "Enter salary -> 9999999999999\n",
            "Siddhant 4135 CSE 9999999999999\n",
            "Sarthak 8391 MECH 999999999999999\n",
            "Priya 4136 CSE 9999999999999\n"
          ]
        }
      ],
      "metadata": {
        "colab": {
          "base_uri": "https://localhost:8080/"
        },
        "id": "LH9dcirLBarb",
        "outputId": "41486de9-8e3a-4e0a-ff59-c02d5d9a83bb"
      }
    },
    {
      "cell_type": "markdown",
      "source": [
        "# Program 3"
      ],
      "metadata": {
        "id": "biaF_SA4Bo9q"
      }
    },
    {
      "cell_type": "code",
      "execution_count": null,
      "source": [
        "# Program 3\n",
        "\n",
        "class BankAccount:\n",
        "\n",
        "    def __init__(self, account_no, account_holder_name, amount=0.0):\n",
        "        self.account_no = account_no\n",
        "        self.account_holder_name = account_holder_name\n",
        "        self.amount = amount\n",
        "\n",
        "    def depositAmount(self, add_amount: float) -> bool:\n",
        "        self.amount += add_amount\n",
        "        print(\"Amount Deposited -> \",add_amount)\n",
        "        self.checkBalance()\n",
        "\n",
        "    def withdrawAmount(self, get_amount: float) -> bool:\n",
        "        if self.amount < get_amount:\n",
        "            print(\"Insufficient Balance\")\n",
        "        else:\n",
        "            self.amount -= get_amount\n",
        "            print(\"Amount WithDrawn -> \",get_amount)\n",
        "        self.checkBalance()\n",
        "\n",
        "\n",
        "    def checkBalance(self):\n",
        "        print(\"\\nAccount Balance -> \", self.amount)\n",
        "        print(\"\\n\")\n",
        "\n",
        "    def displayDetails(self):\n",
        "        print(\"Account No          -> \", self.account_no)\n",
        "        print(\"Account Holder Name -> \", self.account_holder_name)\n",
        "        print(\"Bank Balance Amount -> \", self.amount)\n",
        "\n",
        "\n",
        "\n",
        "acc_no = input(\"Enter account no -> \")\n",
        "acc_hlr_name = input(\"Enter account holder name -> \")\n",
        "\n",
        "bobj = BankAccount(acc_no,acc_hlr_name)\n",
        "bobj.checkBalance()\n",
        "bobj.depositAmount(50)\n",
        "bobj.withdrawAmount(100)\n",
        "\n",
        "\n",
        "bobj.displayDetails()\n",
        "\n"
      ],
      "outputs": [
        {
          "output_type": "stream",
          "name": "stdout",
          "text": [
            "Enter account no -> 5498123812334\n",
            "Enter account holder name -> Siddhant Dixit\n",
            "\n",
            "Account Balance ->  0.0\n",
            "\n",
            "\n",
            "Amount Deposited ->  50\n",
            "\n",
            "Account Balance ->  50.0\n",
            "\n",
            "\n",
            "Insufficient Balance\n",
            "\n",
            "Account Balance ->  50.0\n",
            "\n",
            "\n",
            "Account No          ->  5498123812334\n",
            "Account Holder Name ->  Siddhant Dixit\n",
            "Bank Balance Amount ->  50.0\n"
          ]
        }
      ],
      "metadata": {
        "colab": {
          "base_uri": "https://localhost:8080/"
        },
        "id": "lb52sA3VBcfi",
        "outputId": "7279d1c7-c1d3-4e15-8772-4c1d674ef292"
      }
    },
    {
      "cell_type": "markdown",
      "source": [
        "# Program 4"
      ],
      "metadata": {
        "id": "terB-tdZBw-T"
      }
    },
    {
      "cell_type": "code",
      "execution_count": null,
      "source": [
        "class Student:\n",
        "\n",
        "    marks = []\n",
        "\n",
        "    def __init__(self,name:str,USN:int):\n",
        "        self.name = name\n",
        "        self.USN = USN\n",
        "\n",
        "    def updateMarks(self,physics:int,chemistry:int,maths:int):\n",
        "        self.marks.append(physics)\n",
        "        self.marks.append(chemistry)\n",
        "        self.marks.append(maths)\n",
        "    \n",
        "    def printInfo(self):\n",
        "        print(f\"\\n\\n\\n Name - {self.name}\")\n",
        "        print(f\" USN  - {self.USN}\")\n",
        "\n",
        "    def printMarks(self):\n",
        "        print(\"\\n MARKS\\n\")\n",
        "        print(f\" 1. Physics - {self.marks[0]}\")\n",
        "        print(f\" 2. Chemistry - {self.marks[1]}\")\n",
        "        print(f\" 3. Maths - {self.marks[2]}\")\n",
        "\n",
        "\n",
        "a = Student(\"Siddhant\",123)\n",
        "a.updateMarks(100,100,100)\n",
        "a.printInfo()\n",
        "a.printMarks()\n",
        "\n",
        "b = Student(\"Raman\",100)\n",
        "b.updateMarks(90,95,100)\n",
        "a.printInfo()\n",
        "a.printMarks()\n",
        "\n",
        "c = Student(\"Sheetal\",100)\n",
        "c.updateMarks(90,95,100)\n",
        "a.printInfo()\n",
        "a.printMarks()\n"
      ],
      "outputs": [
        {
          "output_type": "stream",
          "name": "stdout",
          "text": [
            "\n",
            "\n",
            "\n",
            " Name - Siddhant\n",
            " USN  - 123\n",
            "\n",
            " MARKS\n",
            "\n",
            " 1. Physics - 100\n",
            " 2. Chemistry - 100\n",
            " 3. Maths - 100\n",
            "\n",
            "\n",
            "\n",
            " Name - Siddhant\n",
            " USN  - 123\n",
            "\n",
            " MARKS\n",
            "\n",
            " 1. Physics - 100\n",
            " 2. Chemistry - 100\n",
            " 3. Maths - 100\n",
            "\n",
            "\n",
            "\n",
            " Name - Siddhant\n",
            " USN  - 123\n",
            "\n",
            " MARKS\n",
            "\n",
            " 1. Physics - 100\n",
            " 2. Chemistry - 100\n",
            " 3. Maths - 100\n"
          ]
        }
      ],
      "metadata": {
        "colab": {
          "base_uri": "https://localhost:8080/"
        },
        "id": "LhJBYRBCBgby",
        "outputId": "3d21e048-e4a0-4517-9c6e-89a4f68b5aa5"
      }
    },
    {
      "cell_type": "markdown",
      "source": [
        "# Program 5"
      ],
      "metadata": {
        "id": "6o_6TbhwB65c"
      }
    },
    {
      "cell_type": "code",
      "execution_count": null,
      "source": [
        "class Patient:\n",
        "    def inputData(self):\n",
        "        self.name = input(\"Enter the name of the patient : \")\n",
        "        self.dateOfAdmission = input(\"Enter the date of admission : \")\n",
        "        self.symptoms = input(\"Enter all the symptoms with a space in between : \").split(\" \")\n",
        "        self.oxygenLevel = int(input(\"Enter the oxygen level of the patient : \"))\n",
        "        self.dateOfDischarge = input(\"Enter the date of discharge : \")\n",
        "\n",
        "    def printData(self):\n",
        "        print(f\"\\nName : {self.name} \\nDate of Admission : {self.dateOfAdmission} \\nSymptoms : {self.symptoms} \\nOxygen Level : {self.oxygenLevel} \\nDate of Discharge : {self.dateOfDischarge}\\n\")\n",
        "        return self.name, self.dateOfAdmission, self.symptoms, self.oxygenLevel, self.dateOfDischarge\n",
        "\n",
        "    def checkSeverity(self):\n",
        "        return (self.oxygenLevel < 90)\n",
        "\n",
        "\n",
        "class Hospital:\n",
        "    def __init__(self):\n",
        "        self.patients = []\n",
        "\n",
        "    def addPatientData(self,N=5):\n",
        "        for i in range(N):\n",
        "            pt = Patient()\n",
        "            pt.inputData()\n",
        "            pt.printData()\n",
        "            self.patients.append(pt)\n",
        "    \n",
        "    def getOxygenSupport(self,printPatientData=False):\n",
        "        ct=0\n",
        "        for pat in self.patients:\n",
        "            if pat.checkSeverity():\n",
        "                ct+=1\n",
        "                if printPatientData:\n",
        "                    pat.printData()\n",
        "        print(\"\\n\\nNo of Patients requried Oxygen Support = \",ct)\n",
        "        return ct\n",
        "\n",
        "    def getPatientsInGeneralWard(self,printPatientData=False):\n",
        "        ct=0\n",
        "        for pat in self.patients:\n",
        "            if not pat.checkSeverity():\n",
        "                ct+=1\n",
        "                if printPatientData:\n",
        "                    pat.printData()\n",
        "        \n",
        "        print(\"\\n\\nNo of Patients in the general ward for observation = \",ct)\n",
        "        return ct\n",
        "\n",
        "\n",
        "    def getPatientsData(self,printPatientData=False):\n",
        "        for pat in self.patients:\n",
        "            if printPatientData:\n",
        "                pat.printData()\n",
        "        \n",
        "        print(\"Total Number of Patients Admitted :\",len(self.patients))\n",
        "        return len(self.patients)\n",
        "\n",
        "\n",
        "\n",
        "x = Hospital()\n",
        "while True:\n",
        "    print(\"\\n\\nEnter Choice (2Y,3Y,4Y) to print Details too\\n\\n\")\n",
        "    print(\"1. Add Patients\")\n",
        "    print(\"2. Total Patients on Oxygen Support\")\n",
        "    print(\"3. Total Patients in General Ward\")\n",
        "    print(\"4. Print Patient Data\")\n",
        "    print(\"5. Exit\\n\\n\")\n",
        "\n",
        "    choice = input(\"-> \")\n",
        "    \n",
        "    if(choice==\"1\"):\n",
        "        n = input(\"How many patients (default 5) -> \")\n",
        "        if n==\"\":\n",
        "            x.addPatientData()\n",
        "        else:\n",
        "            x.addPatientData(int(n))\n",
        "    \n",
        "    if(choice==\"2\"):\n",
        "        x.getOxygenSupport()\n",
        "\n",
        "    if(choice==\"2Y\"):\n",
        "        x.getOxygenSupport(True)\n",
        "    \n",
        "    if(choice==\"3\"):\n",
        "        x.getPatientsInGeneralWard()\n",
        "\n",
        "    if(choice==\"3Y\"):\n",
        "        x.getPatientsInGeneralWard(True)\n",
        "\n",
        "    if(choice==\"4\"):\n",
        "        x.getPatientsData()\n",
        "\n",
        "    if(choice==\"4Y\"):\n",
        "        x.getPatientsData(True)\n",
        "    \n",
        "    if(choice==\"5\"):\n",
        "        break"
      ],
      "outputs": [
        {
          "output_type": "stream",
          "name": "stdout",
          "text": [
            "\n",
            "\n",
            "Enter Choice (2Y,3Y,4Y) to print Details too\n",
            "\n",
            "\n",
            "1. Add Patients\n",
            "2. Total Patients on Oxygen Support\n",
            "3. Total Patients in General Ward\n",
            "4. Print Patient Data\n",
            "5. Exit\n",
            "\n",
            "\n",
            "-> 1\n",
            "How many patients (default 5) -> 3\n",
            "Enter the name of the patient : Siddhant Dixit\n",
            "Enter the date of admission : 10-09-2021\n",
            "Enter all the symptoms with a space in between : Depression Pain\n",
            "Enter the oxygen level of the patient : 95\n",
            "Enter the date of discharge : 15-09-2021\n",
            "\n",
            "Name : Siddhant Dixit \n",
            "Date of Admission : 10-09-2021 \n",
            "Symptoms : ['Depression', 'Pain'] \n",
            "Oxygen Level : 95 \n",
            "Date of Discharge : 15-09-2021\n",
            "\n",
            "Enter the name of the patient : Priya Saxena\n",
            "Enter the date of admission : 11-09-2021\n",
            "Enter all the symptoms with a space in between : Depression Pain\n",
            "Enter the oxygen level of the patient : 70\n",
            "Enter the date of discharge : 16-09-2021\n",
            "\n",
            "Name : Priya Saxena \n",
            "Date of Admission : 11-09-2021 \n",
            "Symptoms : ['Depression', 'Pain'] \n",
            "Oxygen Level : 70 \n",
            "Date of Discharge : 16-09-2021\n",
            "\n",
            "Enter the name of the patient : Amit Ahuja\n",
            "Enter the date of admission : 14-09-2021\n",
            "Enter all the symptoms with a space in between : Sleepwalking\n",
            "Enter the oxygen level of the patient : 90\n",
            "Enter the date of discharge : 16-09-2021\n",
            "\n",
            "Name : Amit Ahuja \n",
            "Date of Admission : 14-09-2021 \n",
            "Symptoms : ['Sleepwalking'] \n",
            "Oxygen Level : 90 \n",
            "Date of Discharge : 16-09-2021\n",
            "\n",
            "\n",
            "\n",
            "Enter Choice (2Y,3Y,4Y) to print Details too\n",
            "\n",
            "\n",
            "1. Add Patients\n",
            "2. Total Patients on Oxygen Support\n",
            "3. Total Patients in General Ward\n",
            "4. Print Patient Data\n",
            "5. Exit\n",
            "\n",
            "\n",
            "-> 2\n",
            "\n",
            "\n",
            "No of Patients requried Oxygen Support =  1\n",
            "\n",
            "\n",
            "Enter Choice (2Y,3Y,4Y) to print Details too\n",
            "\n",
            "\n",
            "1. Add Patients\n",
            "2. Total Patients on Oxygen Support\n",
            "3. Total Patients in General Ward\n",
            "4. Print Patient Data\n",
            "5. Exit\n",
            "\n",
            "\n",
            "-> 2Y\n",
            "\n",
            "Name : Priya Saxena \n",
            "Date of Admission : 11-09-2021 \n",
            "Symptoms : ['Depression', 'Pain'] \n",
            "Oxygen Level : 70 \n",
            "Date of Discharge : 16-09-2021\n",
            "\n",
            "\n",
            "\n",
            "No of Patients requried Oxygen Support =  1\n",
            "\n",
            "\n",
            "Enter Choice (2Y,3Y,4Y) to print Details too\n",
            "\n",
            "\n",
            "1. Add Patients\n",
            "2. Total Patients on Oxygen Support\n",
            "3. Total Patients in General Ward\n",
            "4. Print Patient Data\n",
            "5. Exit\n",
            "\n",
            "\n",
            "-> 3\n",
            "\n",
            "\n",
            "No of Patients in the general ward for observation =  2\n",
            "\n",
            "\n",
            "Enter Choice (2Y,3Y,4Y) to print Details too\n",
            "\n",
            "\n",
            "1. Add Patients\n",
            "2. Total Patients on Oxygen Support\n",
            "3. Total Patients in General Ward\n",
            "4. Print Patient Data\n",
            "5. Exit\n",
            "\n",
            "\n",
            "-> 3Y\n",
            "\n",
            "Name : Siddhant Dixit \n",
            "Date of Admission : 10-09-2021 \n",
            "Symptoms : ['Depression', 'Pain'] \n",
            "Oxygen Level : 95 \n",
            "Date of Discharge : 15-09-2021\n",
            "\n",
            "\n",
            "Name : Amit Ahuja \n",
            "Date of Admission : 14-09-2021 \n",
            "Symptoms : ['Sleepwalking'] \n",
            "Oxygen Level : 90 \n",
            "Date of Discharge : 16-09-2021\n",
            "\n",
            "\n",
            "\n",
            "No of Patients in the general ward for observation =  2\n",
            "\n",
            "\n",
            "Enter Choice (2Y,3Y,4Y) to print Details too\n",
            "\n",
            "\n",
            "1. Add Patients\n",
            "2. Total Patients on Oxygen Support\n",
            "3. Total Patients in General Ward\n",
            "4. Print Patient Data\n",
            "5. Exit\n",
            "\n",
            "\n",
            "-> 4\n",
            "Total Number of Patients Admitted : 3\n",
            "\n",
            "\n",
            "Enter Choice (2Y,3Y,4Y) to print Details too\n",
            "\n",
            "\n",
            "1. Add Patients\n",
            "2. Total Patients on Oxygen Support\n",
            "3. Total Patients in General Ward\n",
            "4. Print Patient Data\n",
            "5. Exit\n",
            "\n",
            "\n",
            "-> 4Y\n",
            "\n",
            "Name : Siddhant Dixit \n",
            "Date of Admission : 10-09-2021 \n",
            "Symptoms : ['Depression', 'Pain'] \n",
            "Oxygen Level : 95 \n",
            "Date of Discharge : 15-09-2021\n",
            "\n",
            "\n",
            "Name : Priya Saxena \n",
            "Date of Admission : 11-09-2021 \n",
            "Symptoms : ['Depression', 'Pain'] \n",
            "Oxygen Level : 70 \n",
            "Date of Discharge : 16-09-2021\n",
            "\n",
            "\n",
            "Name : Amit Ahuja \n",
            "Date of Admission : 14-09-2021 \n",
            "Symptoms : ['Sleepwalking'] \n",
            "Oxygen Level : 90 \n",
            "Date of Discharge : 16-09-2021\n",
            "\n",
            "Total Number of Patients Admitted : 3\n",
            "\n",
            "\n",
            "Enter Choice (2Y,3Y,4Y) to print Details too\n",
            "\n",
            "\n",
            "1. Add Patients\n",
            "2. Total Patients on Oxygen Support\n",
            "3. Total Patients in General Ward\n",
            "4. Print Patient Data\n",
            "5. Exit\n",
            "\n",
            "\n",
            "-> 5\n"
          ]
        }
      ],
      "metadata": {
        "colab": {
          "base_uri": "https://localhost:8080/"
        },
        "id": "5qUGFa3_CFQb",
        "outputId": "40cc9541-717e-4104-a273-e4b7bc4c331a"
      }
    },
    {
      "cell_type": "markdown",
      "source": [
        "# Program 6"
      ],
      "metadata": {
        "id": "co_T6ZzRB71m"
      }
    },
    {
      "cell_type": "code",
      "execution_count": null,
      "source": [
        "class Time:\n",
        "    def __init__(self, hours=0,minutes=0,seconds=0):\n",
        "        self.hours = hours\n",
        "        self.minutes = minutes\n",
        "        self.seconds = seconds\n",
        "\n",
        "    def display(self):\n",
        "        print(f\"Time : {self.hours:02d}:{self.minutes:02d}:{self.seconds:02d}\")\n",
        "\n",
        "\n",
        "x = Time()\n",
        "x.display()\n",
        "\n",
        "\n",
        "y = Time(5,30,6)\n",
        "y.display()"
      ],
      "outputs": [
        {
          "output_type": "stream",
          "name": "stdout",
          "text": [
            "Time : 00:00:00\n",
            "Time : 05:30:06\n"
          ]
        }
      ],
      "metadata": {
        "colab": {
          "base_uri": "https://localhost:8080/"
        },
        "id": "_dktNTtYCHGz",
        "outputId": "de4f29aa-285c-4160-bd98-ecbc2dfe9b63"
      }
    },
    {
      "cell_type": "markdown",
      "source": [
        "# Program 7"
      ],
      "metadata": {
        "id": "0QBG9gbXB75A"
      }
    },
    {
      "cell_type": "code",
      "execution_count": null,
      "source": [
        "class Student:\n",
        "    def __init__(self, name, age, rollNo):\n",
        "        self.name = name\n",
        "        self.age = age\n",
        "        self.rollNo = rollNo\n",
        "\n",
        "    @classmethod\n",
        "    def compare(cls, std1, std2):\n",
        "        if std1.age == std2.age:\n",
        "            print(\"Age of the students are equal.\")\n",
        "        else:\n",
        "            print(\"Age of the students are not equal.\")\n",
        "\n",
        "S1 = Student(\"Siddhant Dixit\", 19, 123)\n",
        "S2 = Student(\"Sarthak Dixit\", 21, 124)\n",
        "Student.compare(S1, S2)\n",
        "\n",
        "\n",
        "S1 = Student(\"Siddhant Dixit\", 19, 123)\n",
        "S2 = Student(\"Sarthak Dixit\", 19, 124)\n",
        "Student.compare(S1, S2)"
      ],
      "outputs": [
        {
          "output_type": "stream",
          "name": "stdout",
          "text": [
            "Age of the students are not equal.\n",
            "Age of the students are equal.\n"
          ]
        }
      ],
      "metadata": {
        "colab": {
          "base_uri": "https://localhost:8080/"
        },
        "id": "Wud5_o34CIbj",
        "outputId": "42a3ee66-c4af-4897-ac1a-b921b9a024b6"
      }
    },
    {
      "cell_type": "markdown",
      "source": [
        "# Program 8"
      ],
      "metadata": {
        "id": "NAJiWbLGB77s"
      }
    },
    {
      "cell_type": "code",
      "execution_count": null,
      "source": [
        "class Student:\n",
        "    sem = 3\n",
        "    institute = \"IIIT Dharwad\"\n",
        "    \n",
        "    def setData(self):\n",
        "        self.name = input(\"Enter the name of the student : \")\n",
        "        self.id = int(input(\"Enter the USN of student : \"))\n",
        "\n",
        "    def getInstanceData(self):\n",
        "        print(f\"Name : {self.name}\")\n",
        "        print(f\"USN = {self.id}\")\n",
        "\n",
        "    @classmethod\n",
        "    def getClassData(cls):\n",
        "        print(f\"Semester : {cls.sem}\")\n",
        "        print(f\"Institute : {cls.institute}\")\n",
        "\n",
        "    @staticmethod\n",
        "    def getExplanation():\n",
        "        print(\"Class variables (sem, institute) are printed using ClassMethod and Instance variables (name, id) are printed using Instance Method\")\n",
        "\n",
        "\n",
        "s1 = Student()\n",
        "s1.setData()\n",
        "s1.getInstanceData()\n",
        "Student.getClassData()\n",
        "Student.getExplanation()"
      ],
      "outputs": [
        {
          "output_type": "stream",
          "name": "stdout",
          "text": [
            "Enter the name of the student : Siddhant Dixit\n",
            "Enter the USN of student : 548129839\n",
            "Name : Siddhant Dixit\n",
            "USN = 548129839\n",
            "Semester : 3\n",
            "Institute : IIIT Dharwad\n",
            "Class variables (sem, institute) are printed using ClassMethod and Instance variables (name, id) are printed using Instance Method\n"
          ]
        }
      ],
      "metadata": {
        "colab": {
          "base_uri": "https://localhost:8080/"
        },
        "id": "Lr_BKS3jCJ8T",
        "outputId": "ce844135-dbf3-407d-bd51-8fd5261d7773"
      }
    },
    {
      "cell_type": "markdown",
      "source": [
        "# Program 9"
      ],
      "metadata": {
        "id": "89P6-ffvB-yj"
      }
    },
    {
      "cell_type": "code",
      "execution_count": null,
      "source": [
        "class Student:\n",
        "    def setData(self):\n",
        "        self.Name = input(\"Enter the name : \")\n",
        "        self.ID = int(input(\"Enter the Roll Number : \"))\n",
        "        self.sem = int(input(\"Enter the semester number : \"))\n",
        "        self.nLaptop = int(input(\"Enter the number of laptops : \"))\n",
        "        self.listLaptop = []\n",
        "        for i in range (0, self.nLaptop):\n",
        "            tempObj = self.Laptop()\n",
        "            self.listLaptop.append(tempObj)\n",
        "\n",
        "    class Laptop:\n",
        "        def __init__(self):\n",
        "            self.cpu = input(\"Enter the name of the CPU : \")\n",
        "            self.ram = input(\"Enter the RAM of the Laptop : \")\n",
        "            self.hardDisk = input(\"Enter the size of hard disk : \")\n",
        "            self.display = input(\"Enter the display resolution : \")\n",
        "        \n",
        "        def getData(self):\n",
        "            print(f\"CPU : {self.cpu}\") \n",
        "            print(f\"RAM : {self.ram}\")\n",
        "            print(f\"Hard Disk : {self.hardDisk}\")\n",
        "            print(f\"Display Resolution : {self.display}\")\n",
        "\n",
        "    def getData(self):\n",
        "        print(f\"Name : {self.Name}\") \n",
        "        print(f\"USN : {self.ID}\")\n",
        "        print(f\"Semester : {self.sem}\")\n",
        "        print(f\"Number of Laptops : {self.nLaptop}\")\n",
        "        for i in range(0, self.nLaptop):\n",
        "            print(f\"Details of laptop {i+1}  : \")\n",
        "            self.listLaptop[i].getData()\n",
        "\n",
        "S1 = Student()\n",
        "S1.setData()\n",
        "S1.getData()"
      ],
      "outputs": [
        {
          "output_type": "stream",
          "name": "stdout",
          "text": [
            "Enter the name : Siddhant Dixit\n",
            "Enter the Roll Number : 123\n",
            "Enter the semester number : 3\n",
            "Enter the number of laptops : 2\n",
            "Enter the name of the CPU : Intel\n",
            "Enter the RAM of the Laptop : 8000\n",
            "Enter the size of hard disk : 1000\n",
            "Enter the display resolution : 1280x720\n",
            "Enter the name of the CPU : Intel i7\n",
            "Enter the RAM of the Laptop : 8 GB\n",
            "Enter the size of hard disk : 1TB SSD\n",
            "Enter the display resolution : 1920x1080\n",
            "Name : Siddhant Dixit\n",
            "USN : 123\n",
            "Semester : 3\n",
            "Number of Laptops : 2\n",
            "Details of laptop 1  : \n",
            "CPU : Intel\n",
            "RAM : 8000\n",
            "Hard Disk : 1000\n",
            "Display Resolution : 1280x720\n",
            "Details of laptop 2  : \n",
            "CPU : Intel i7\n",
            "RAM : 8 GB\n",
            "Hard Disk : 1TB SSD\n",
            "Display Resolution : 1920x1080\n"
          ]
        }
      ],
      "metadata": {
        "colab": {
          "base_uri": "https://localhost:8080/"
        },
        "id": "5WBnFepBCLV7",
        "outputId": "8d2389a4-3e14-4cec-8bb3-d31e08a6873e"
      }
    }
  ]
}
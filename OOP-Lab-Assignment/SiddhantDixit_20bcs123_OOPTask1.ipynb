{
  "nbformat": 4,
  "nbformat_minor": 2,
  "metadata": {
    "colab": {
      "name": "SiddhantDixit_20bcs123_OOPTask1.ipynb",
      "provenance": [],
      "collapsed_sections": []
    },
    "kernelspec": {
      "name": "python3",
      "display_name": "Python 3.9.4 64-bit"
    },
    "language_info": {
      "name": "python",
      "version": "3.9.4",
      "mimetype": "text/x-python",
      "codemirror_mode": {
        "name": "ipython",
        "version": 3
      },
      "pygments_lexer": "ipython3",
      "nbconvert_exporter": "python",
      "file_extension": ".py"
    },
    "interpreter": {
      "hash": "558802ee62ad00077b1e13aabce3970070a978d35856ddf482faf180fa7e2679"
    }
  },
  "cells": [
    {
      "cell_type": "markdown",
      "source": [
        "<a href=\"https://colab.research.google.com/github/siddhantdixit/OOP-ClassWork/blob/main/OOP-Lab-Assignment/SiddhantDixit_20bcs123_OOPTask1.ipynb\" target=\"_parent\"><img src=\"https://colab.research.google.com/assets/colab-badge.svg\" alt=\"Open In Colab\"/></a>"
      ],
      "metadata": {}
    },
    {
      "cell_type": "markdown",
      "source": [
        "## Problem-I\r\n",
        "An extra day is added to the calendar almost every four years as February 29, and the day is called a leap day. It corrects the calendar for the fact that our planet takes approximately 365.25 days to orbit the sun. A leap year contains a leap day.\r\n",
        "In the Gregorian calendar, three conditions are used to identify leap years:\r\n",
        "1.\tThe year can be evenly divided by 4, is a leap year, unless:\r\n",
        "2.\tThe year can be evenly divided by 100, it is NOT a leap year, unless:\r\n",
        "3.\tThe year is also evenly divisible by 400. Then it is a leap year.\r\n",
        "Write function to decide whether it is a leap year. If it is a leap year, return the Boolean True, otherwise return False.\r\n"
      ],
      "metadata": {}
    },
    {
      "cell_type": "code",
      "execution_count": 2,
      "source": [
        "# Problem 1\r\n",
        "\r\n",
        "def checkLeapYear(year):\r\n",
        "    if (year % 4) == 0:\r\n",
        "        if (year % 100) == 0:\r\n",
        "            if (year % 400) == 0:\r\n",
        "                return True\r\n",
        "            else:\r\n",
        "                return False\r\n",
        "        else:\r\n",
        "             return True\r\n",
        "    else:\r\n",
        "        return False\r\n",
        "\r\n",
        "year = 2020\r\n",
        "print(year,checkLeapYear(year))\r\n",
        "\r\n",
        "year = 2021\r\n",
        "print(year,checkLeapYear(year))"
      ],
      "outputs": [
        {
          "output_type": "stream",
          "name": "stdout",
          "text": [
            "2020 True\n",
            "2021 False\n"
          ]
        }
      ],
      "metadata": {
        "id": "-3WVj4JzULqk",
        "colab": {
          "base_uri": "https://localhost:8080/"
        },
        "outputId": "d79f0838-3579-46be-d300-2ca7bc2ec86d"
      }
    },
    {
      "cell_type": "markdown",
      "source": [
        "## Problem-II\r\n",
        "Given an integer ‘n’, write a python code to perform the following conditional actions:\r\n",
        "1.\tIf ‘n’ is odd, print Weird\r\n",
        "2.\tIf ‘n’ is even and in the inclusive range of 2 to 5, print Not Weird\r\n",
        "3.\tIf ‘n’ is even and in the inclusive range of 6 to 20, print Weird\r\n",
        "4.\tIf ‘n’ is even and greater than 20, print Not Weird\r\n"
      ],
      "metadata": {}
    },
    {
      "cell_type": "code",
      "execution_count": 6,
      "source": [
        "# Problem 2\r\n",
        "\r\n",
        "n = 5\r\n",
        "\r\n",
        "if n % 2 == 1:\r\n",
        "    print(\"Weird\")\r\n",
        "\r\n",
        "if n%2==0 and (n>=2 and n<=5):\r\n",
        "    print(\"Not Weird\")\r\n",
        "\r\n",
        "if n%2==0 and (n>=6 and n<=20):\r\n",
        "    print(\"Weird\")\r\n",
        "\r\n",
        "if n%2==0 and n>20:\r\n",
        "    print(\"Not Weird\")\r\n"
      ],
      "outputs": [],
      "metadata": {}
    },
    {
      "cell_type": "markdown",
      "source": [
        "## Problem-III\r\n",
        "The following list represents a party with 7 guests, in which ‘Hardik’ showed up first and ‘Rahane’ was the last to arrive:\r\n",
        "\r\n",
        "    Arrivals = ['Hardik', 'Rahul', 'Virat', 'Rishabh’, ‘Mahi’ 'Rohit', 'Rahane']\r\n",
        "\r\n",
        "A guest is considered 'fashionably late' if they arrived after at least half of the party's guests. However, they must not be the very last guest (that's taking it too far). In the above example, ‘rishabh’, ‘Mahi’ and ‘Rohit’ are the only guests who were fashionably late.\r\n",
        "\r\n",
        "Write the function which takes a list of party attendees as well as a person, and tells us whether that person is fashionably late.\r\n"
      ],
      "metadata": {}
    },
    {
      "cell_type": "code",
      "execution_count": 14,
      "source": [
        "# Problem 3\r\n",
        "\r\n",
        "def fashionablyLate(party_attendees:list, person):\r\n",
        "    person_ind = party_attendees.index(person)\r\n",
        "    if person_ind == len(party_attendees)-1:\r\n",
        "        return False\r\n",
        "\r\n",
        "    if person_ind >= (len(party_attendees)//2):\r\n",
        "        return True\r\n",
        "    else:\r\n",
        "        return False\r\n",
        "\r\n",
        "\r\n",
        "Arrivals = ['Hardik', 'Rahul', 'Virat', 'Rishabh', 'Mahi' ,'Rohit', 'Rahane']\r\n",
        "\r\n",
        "print(fashionablyLate(Arrivals,\"Virat\"))\r\n",
        "\r\n",
        "print(fashionablyLate(Arrivals,\"Rohit\"))\r\n",
        "\r\n",
        "print(fashionablyLate(Arrivals,\"Rahane\"))"
      ],
      "outputs": [
        {
          "output_type": "stream",
          "name": "stdout",
          "text": [
            "False\n",
            "True\n",
            "False\n"
          ]
        }
      ],
      "metadata": {}
    },
    {
      "cell_type": "markdown",
      "source": [
        "## Problem-IV\r\n",
        "A researcher has gathered thousands of news articles. But she wants to focus her attention on articles including a specific word. Write a function to help her filter her list of articles.\r\n",
        "Your function should meet the following criteria:\r\n",
        "1.\tDo not include documents where the keyword string shows up only as a part of a larger word. For example, if she were looking for the keyword “closed”, you would not include the string “enclosed.”\r\n",
        "2.\tShe does not want you to distinguish upper case from lower case letters. So the phrase “Closed the case.” would be included when the keyword is “closed”\r\n",
        "3.\tDo not let periods or commas affect what is matched. “It is closed.” would be included when the keyword is “closed”. But you can assume there are no other types of punctuation.\r\n",
        "\r\n",
        "Assume, doc_list = [\"The Learn Python Challenge Rohit.\", \"They bought a car\", \"bangalore\"]\r\n"
      ],
      "metadata": {}
    },
    {
      "cell_type": "code",
      "execution_count": 30,
      "source": [
        "# Problem 4\r\n",
        "\r\n",
        "def filter_my_articles(doc_list:list, word:str):\r\n",
        "    my_articles = []\r\n",
        "    for article in doc_list:\r\n",
        "        keywords = [i.lower().strip('.,') for i in article.split()]\r\n",
        "        if word.lower() in keywords:\r\n",
        "            my_articles.append(article)\r\n",
        "    return my_articles\r\n",
        "\r\n",
        "doc_list = [\"The Learn Python Challenge Rohit.\", \"They bought a car\", \"bangalore\"]\r\n",
        "\r\n",
        "print(filter_my_articles(doc_list,'bought'))\r\n",
        "print(filter_my_articles(doc_list,'rohit'))"
      ],
      "outputs": [
        {
          "output_type": "stream",
          "name": "stdout",
          "text": [
            "['They bought a car']\n",
            "['The Learn Python Challenge Rohit.']\n"
          ]
        }
      ],
      "metadata": {}
    },
    {
      "cell_type": "markdown",
      "source": [
        "## Problem-V\r\n",
        "An Employee's Basic Pay (BP) is to be read from user. DA is 40% of BP, HRA is 20% of BP, and write a function to calculate the Gross Pay (GP) GP is computed as BP + DA + HRA.\r\n"
      ],
      "metadata": {}
    },
    {
      "cell_type": "code",
      "execution_count": 34,
      "source": [
        "# Problem 5\r\n",
        "\r\n",
        "def gross_pay_amount(bp:float):\r\n",
        "    da = (40/100) * bp\r\n",
        "    hra = (20/100) * bp\r\n",
        "    gp = bp + da + hra\r\n",
        "    return gp\r\n",
        "\r\n",
        "ebp = float(input(\"Enter Employee's Basic Pay (BP) -> \"))\r\n",
        "gpa = gross_pay_amount(ebp)\r\n",
        "print(\"Gross Pay (GP) -> \",gpa)"
      ],
      "outputs": [
        {
          "output_type": "stream",
          "name": "stdout",
          "text": [
            "Gross Pay (GP) ->  3200.0\n"
          ]
        }
      ],
      "metadata": {}
    }
  ]
}
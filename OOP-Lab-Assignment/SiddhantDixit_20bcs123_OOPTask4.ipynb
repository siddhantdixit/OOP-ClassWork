{
  "cells": [
    {
      "cell_type": "markdown",
      "metadata": {},
      "source": [
        "<a href=\"https://colab.research.google.com/github/siddhantdixit/OOP-ClassWork/blob/main/OOP-Lab-Assignment/SiddhantDixit_20bcs123_OOPTask4.ipynb\" target=\"_parent\"><img src=\"https://colab.research.google.com/assets/colab-badge.svg\" alt=\"Open In Colab\"/></a>"
      ]
    },
    {
      "cell_type": "markdown",
      "metadata": {
        "id": "oIQUltimtYOm"
      },
      "source": [
        "# OOP Lab Assignment 4\n",
        "\n",
        "## Question 1\n",
        "Write a python code to create a class node with data and address of next node as\n",
        "parameters. Derive stack class from node class with top position or head node position as a\n",
        "parameter and also perform the following operations.\n",
        "a. Check stack is empty\n",
        "b. Add data to stack\n",
        "c. Delete data from the stack.\n",
        "d. Display the elements of the stack.\n",
        "e. Deallocate the memory assigned to each node using destructors.\n",
        "\n"
      ]
    },
    {
      "cell_type": "code",
      "execution_count": 2,
      "metadata": {
        "colab": {
          "base_uri": "https://localhost:8080/"
        },
        "id": "2DeHLByBt4sE",
        "outputId": "2e262656-1b41-4c5e-d146-173d2698c56e"
      },
      "outputs": [
        {
          "name": "stdout",
          "output_type": "stream",
          "text": [
            "Stack: 10 -> 9 -> 8 -> 7 -> 6 -> 5 -> 4 -> 3 -> 2 -> 1 \n",
            "Stack: 6 -> 5 -> 4 -> 3 -> 2 -> 1 \n",
            "Stack deleted\n"
          ]
        }
      ],
      "source": [
        "class Node:\n",
        "    def __init__(self, value):\n",
        "        self.value = value\n",
        "        self.next = None\n",
        "\n",
        "    def __del__(self):\n",
        "        if hasattr(self, 'value'):\n",
        "            del self.value\n",
        "        if hasattr(self, 'next'):\n",
        "            del self.next\n",
        "\n",
        "class Stack():\n",
        "\n",
        "    def __init__(self):\n",
        "        self.head = Node(\"head\")\n",
        "        self.size = 0\n",
        "\n",
        "    def __str__(self):\n",
        "        cur = self.head.next\n",
        "        out = \"\"\n",
        "        while cur:\n",
        "            out += str(cur.value) + \" -> \"\n",
        "            cur = cur.next\n",
        "        return out[:-3]\n",
        "\n",
        "    def getSize(self):\n",
        "        return self.size\n",
        "\n",
        "    def isEmpty(self):\n",
        "        return self.size == 0\n",
        "\n",
        "    def peek(self):\n",
        "        if self.isEmpty():\n",
        "            raise Exception(\"Stack is Empty. Peek Failed!\")\n",
        "        return self.head.next.value\n",
        "\n",
        "    def push(self, value):\n",
        "        node = Node(value)\n",
        "        node.next = self.head.next\n",
        "        self.head.next = node\n",
        "        self.size += 1\n",
        "\n",
        "    def pop(self):\n",
        "        if self.isEmpty():\n",
        "            raise Exception(\"Stack is Empty. Pop Failed!\")\n",
        "        remove = self.head.next\n",
        "        self.head.next = self.head.next.next\n",
        "        self.size -= 1\n",
        "        remove.__del__()\n",
        "\n",
        "    def __del__(self):\n",
        "        self.head.__del__()\n",
        "\n",
        "\n",
        "if __name__ == \"__main__\":\n",
        "    stack = Stack()\n",
        "    for i in range(1, 11):\n",
        "        stack.push(i)\n",
        "    print(f\"Stack: {stack}\")\n",
        "\n",
        "    for _ in range(1, 5):\n",
        "        stack.pop()\n",
        "\n",
        "    print(f\"Stack: {stack}\")\n",
        "    stack.__del__()\n",
        "    print(\"Stack deleted\")\n"
      ]
    },
    {
      "cell_type": "markdown",
      "metadata": {
        "id": "bJqkk4TDhlou"
      },
      "source": [
        "## Question 2\n",
        "\n",
        "Write a python code to calculate the area of a rectangle using parametrized and default constructors."
      ]
    },
    {
      "cell_type": "code",
      "execution_count": 3,
      "metadata": {
        "colab": {
          "base_uri": "https://localhost:8080/"
        },
        "id": "i-QlEqvhhmqk",
        "outputId": "da5f8264-cef7-46c1-f745-5a90686c0468"
      },
      "outputs": [
        {
          "name": "stdout",
          "output_type": "stream",
          "text": [
            "Enter the length  -> 5.6\n",
            "Enter the breadth -> 3.2\n",
            "Area of Rectangle ->  17.919999999999998\n"
          ]
        }
      ],
      "source": [
        "class Rectangle:\n",
        "    def __init__(self,length=0.0,breadth=0.0):\n",
        "        self.length = float(length)\n",
        "        self.breadth = float(breadth)\n",
        "\n",
        "    def area(self)->str:\n",
        "        return self.length * self.breadth\n",
        "\n",
        "\n",
        "a = input(\"Enter the length  -> \")\n",
        "b = input(\"Enter the breadth -> \")\n",
        "rect = Rectangle(a,b)\n",
        "ar = rect.area()\n",
        "print(\"Area of Rectangle -> \",ar)"
      ]
    },
    {
      "cell_type": "markdown",
      "metadata": {
        "id": "JCBosQfvh2W0"
      },
      "source": [
        "## Question 3\n",
        "\n",
        "Write a python program to implement queue operations using constructors and destructors."
      ]
    },
    {
      "cell_type": "code",
      "execution_count": 8,
      "metadata": {
        "colab": {
          "base_uri": "https://localhost:8080/"
        },
        "id": "K4NaAQgHh77l",
        "outputId": "c3905db8-70aa-45f1-caf6-aa2710c6d0bc"
      },
      "outputs": [
        {
          "name": "stdout",
          "output_type": "stream",
          "text": [
            "Queue: 20 -> 5 -> 7\n",
            "Queue: 7 -> 1\n",
            "Queue: 7 -> 1 -> 3 -> 4\n"
          ]
        }
      ],
      "source": [
        "class Node:\n",
        "     \n",
        "    def __init__(self, data):\n",
        "        self.data = data\n",
        "        self.next = None\n",
        "\n",
        "    def __del__(self):\n",
        "        if hasattr(self,'data'):\n",
        "            del self.data\n",
        "        if hasattr(self,'next'):\n",
        "            del self.next\n",
        "        \n",
        " \n",
        "class Queue:\n",
        "     \n",
        "    def __init__(self):\n",
        "        self.front = self.rear = None\n",
        " \n",
        "    def isEmpty(self):\n",
        "        return self.front == None\n",
        "     \n",
        "\n",
        "    def enqueue(self, item):\n",
        "        temp = Node(item)\n",
        "        if self.rear == None:\n",
        "            self.front = self.rear = temp\n",
        "            return\n",
        "        self.rear.next = temp\n",
        "        self.rear = temp\n",
        " \n",
        "\n",
        "    def dequeue(self):\n",
        "        if self.isEmpty():\n",
        "            return\n",
        "        temp = self.front\n",
        "        self.front = temp.next\n",
        "        temp.__del__()\n",
        "        if(self.front == None):\n",
        "            self.rear = None\n",
        "\n",
        "    def __str__(self):\n",
        "        if self.isEmpty():\n",
        "            return \"Empty\"\n",
        "        out = \"\"\n",
        "        tmp = self.front\n",
        "        while(tmp!=self.rear):\n",
        "            out+=str(tmp.data)+\" -> \"\n",
        "            tmp = tmp.next\n",
        "        out+=str(self.rear.data)\n",
        "        return out\n",
        "\n",
        "\n",
        "if __name__== '__main__':\n",
        "    q = Queue()\n",
        "    q.enqueue(10)\n",
        "    q.enqueue(20)\n",
        "    q.enqueue(5)\n",
        "    q.enqueue(7)\n",
        "    q.dequeue()\n",
        "    print(f\"Queue: {q}\")\n",
        "\n",
        "    q.dequeue()\n",
        "    q.enqueue(1)\n",
        "    q.dequeue()\n",
        "    print(f\"Queue: {q}\")\n",
        "\n",
        "\n",
        "    q.enqueue(3)\n",
        "    q.enqueue(4)\n",
        "    print(f\"Queue: {q}\")\n"
      ]
    }
  ],
  "metadata": {
    "colab": {
      "name": "SiddhantDixit_20bcs123_OOPTask3.ipynb",
      "provenance": []
    },
    "kernelspec": {
      "display_name": "Python 3",
      "name": "python3"
    },
    "language_info": {
      "name": "python"
    }
  },
  "nbformat": 4,
  "nbformat_minor": 0
}

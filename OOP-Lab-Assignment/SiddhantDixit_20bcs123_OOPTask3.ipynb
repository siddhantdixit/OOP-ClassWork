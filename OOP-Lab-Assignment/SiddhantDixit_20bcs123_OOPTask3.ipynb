{
  "nbformat": 4,
  "nbformat_minor": 0,
  "metadata": {
    "colab": {
      "name": "SiddhantDixit_20bcs123_OOPTask3.ipynb",
      "provenance": [],
      "collapsed_sections": []
    },
    "kernelspec": {
      "name": "python3",
      "display_name": "Python 3.9.4 64-bit"
    },
    "language_info": {
      "name": "python",
      "version": "3.9.4",
      "mimetype": "text/x-python",
      "codemirror_mode": {
        "name": "ipython",
        "version": 3
      },
      "pygments_lexer": "ipython3",
      "nbconvert_exporter": "python",
      "file_extension": ".py"
    },
    "interpreter": {
      "hash": "558802ee62ad00077b1e13aabce3970070a978d35856ddf482faf180fa7e2679"
    }
  },
  "cells": [
    {
      "cell_type": "markdown",
      "metadata": {
        "id": "view-in-github"
      },
      "source": [
        "<a href=\"https://colab.research.google.com/github/siddhantdixit/OOP-ClassWork/blob/main/OOP-Lab-Assignment/SiddhantDixit_20bcs123_OOPTask3.ipynb\" target=\"_parent\"><img src=\"https://colab.research.google.com/assets/colab-badge.svg\" alt=\"Open In Colab\"/></a>"
      ]
    },
    {
      "cell_type": "markdown",
      "metadata": {
        "id": "pJeWsHbNmvmL"
      },
      "source": [
        "# Question - 1"
      ]
    },
    {
      "cell_type": "code",
      "metadata": {
        "colab": {
          "base_uri": "https://localhost:8080/"
        },
        "id": "fDBbFofemxoa",
        "outputId": "a741ac98-ec75-49e0-bc18-83212dc5b32f"
      },
      "source": [
        "class Student:\n",
        "    def __init__(self,name,roll_no,age,gender,branch,sem): \n",
        "        self.name = name\n",
        "        self.roll_no = roll_no\n",
        "        self.age = age\n",
        "        self.gender = gender\n",
        "        self.branch = branch\n",
        "        self.sem = sem\n",
        "    \n",
        "class StudentInfo(Student):\n",
        "    def __init__(self,name,roll_no,age,gender,branch,sem,total_marks,\n",
        "                 percentage,grade):\n",
        "        Student.__init__(self,name,roll_no,age,gender,branch,sem)\n",
        "        self.total_marks = total_marks\n",
        "        self.percentage = percentage\n",
        "        self.grade = grade\n",
        "        \n",
        "    @classmethod\n",
        "    def student_data_input(cls):\n",
        "        name = input(\"Enter Name:\")\n",
        "        roll_no = input(\"Roll No:\")\n",
        "        age = int(input(\"Enter Age:\"))\n",
        "        gender = input(\"Gender:\")\n",
        "        branch = input(\"Branch:\")\n",
        "        sem = int(input(\"Semester:\"))\n",
        "        total_marks = input(\"Marks Obtained:\")\n",
        "        percentage = input(\"Percentage:\")\n",
        "        grade  = input(\"Grade:\")\n",
        "        return StudentInfo(name,roll_no,age,gender,branch,sem,total_marks,\n",
        "                                 percentage,grade)\n",
        "\n",
        "    \n",
        "    def printBasic(self):\n",
        "        print(\"STUDENT DETAILS: \")\n",
        "        print(self.name)\n",
        "        print(self.roll_no)\n",
        "        print(self.age)\n",
        "        print(self.gender)\n",
        "        print(self.branch)\n",
        "        print(self.sem)\n",
        "\n",
        "    def printInfo(self):\n",
        "        print(\"STUDENT ACADEMIC PERFORMANCE: \")\n",
        "        print(self.total_marks)\n",
        "        print(self.percentage)\n",
        "        print(self.grade)\n",
        "\n",
        "homie = StudentInfo.\\()\n",
        "homie.printBasic()\n",
        "homie.printInfo()"
      ],
      "execution_count": 14,
      "outputs": [
        {
          "output_type": "stream",
          "name": "stdout",
          "text": [
            "Enter Name:Siddhant Dixit\n",
            "Roll No:20bcs123\n",
            "Enter Age:19\n",
            "Gender:Male\n",
            "Branch:CSE\n",
            "Semester:3\n",
            "Marks Obtained:450\n",
            "Percentage:99%\n",
            "Grade:A+\n",
            "STUDENT DETAILS: \n",
            "Siddhant Dixit\n",
            "20bcs123\n",
            "19\n",
            "Male\n",
            "CSE\n",
            "3\n",
            "STUDENT ACADEMIC PERFORMANCE: \n",
            "450\n",
            "99%\n",
            "A+\n"
          ]
        }
      ]
    },
    {
      "cell_type": "markdown",
      "metadata": {
        "id": "zr-TUxWVpBko"
      },
      "source": [
        "# Question - 2"
      ]
    },
    {
      "cell_type": "code",
      "metadata": {
        "colab": {
          "base_uri": "https://localhost:8080/"
        },
        "id": "rO0J4ij4pDNN",
        "outputId": "cd0f03ac-f1a6-4372-bbe5-9662b0f2b270"
      },
      "source": [
        "class pdf:\n",
        "    def __init__(self,creator,desc,size):\n",
        "        self.creator = creator\n",
        "        self.description = desc\n",
        "        self.size = size\n",
        "\n",
        "class pictures(pdf):\n",
        "    def __init__(self,creator,desc,size,dimensions = [0,0]):\n",
        "        self.dimensions = dimensions\n",
        "        pdf.__init__(self,creator,desc,size)\n",
        "\n",
        "\n",
        "    def FileSize(self,threshold):\n",
        "        if threshold[0]*threshold[1]<self.dimensions[0]*self.dimensions[1]:\n",
        "            return True\n",
        "            print(\"File Larger than Given threshhold.\")\n",
        "        return False\n",
        "        print(\"File does not exceed given Limit.\")\n",
        "    \n",
        "    def DocDetails(self):\n",
        "        if self.dimensions != [0,0]:\n",
        "            print(f\"Dimensions: {self.dimensions[0]} X {self.dimensions[1]}\")\n",
        "\n",
        "        print(f\"File Creator: {self.creator}\")\n",
        "        print(f\"Description: {self.description}\")\n",
        "        print(f\"File Size(kb): {self.size}\")\n",
        "\n",
        "random_pic = pictures(\"Aman\",\"It was taken Yesterday.\",1024,[1920,1080])\n",
        "random_pic.FileSize([3400,920])\n",
        "random_pic.DocDetails()\n",
        "\n",
        "random_pdf = pictures(\"Pawan\",\"It is a good photo.\",2048)\n",
        "random_pdf.DocDetails()"
      ],
      "execution_count": 12,
      "outputs": [
        {
          "output_type": "stream",
          "name": "stdout",
          "text": [
            "Dimensions: 1920 X 1080\n",
            "File Creator: Aman\n",
            "Description: It was taken Yesterday.\n",
            "File Size(kb): 1024\n",
            "File Creator: Pawan\n",
            "Description: It is a good photo.\n",
            "File Size(kb): 2048\n"
          ]
        }
      ]
    },
    {
      "cell_type": "markdown",
      "metadata": {
        "id": "MVVSMRfVyr1w"
      },
      "source": [
        "# Question - 3"
      ]
    },
    {
      "cell_type": "code",
      "metadata": {
        "colab": {
          "base_uri": "https://localhost:8080/"
        },
        "id": "D50tx_z-y1lO",
        "outputId": "d522bfe6-7008-49db-de9b-7af55f7b4cbf"
      },
      "source": [
        "class Vehicle:\n",
        "    def __init__(self,name,milage,capacity):\n",
        "        self.name = name\n",
        "        self.milage = milage\n",
        "        self.capacity = capacity\n",
        "\n",
        "    def Fare(self):\n",
        "        fare = self.capacity * 100\n",
        "        print(f\"Fare is {fare}\")\n",
        "        return fare\n",
        "\n",
        "class Bus(Vehicle):\n",
        "    maintenance = 0.1\n",
        "\n",
        "    def __init__(self,name,milage):\n",
        "        Vehicle.__init__(self,name,milage,50)\n",
        "\n",
        "    def Fare(self):\n",
        "        fare = (1 + Bus.maintenance) * (self.capacity * 100)\n",
        "        print(f\"Fare is {fare}\")\n",
        "\n",
        "ola_cab = Vehicle(\"SUV\",11,4)\n",
        "ola_cab.Fare()\n",
        "\n",
        "bus_ride = Bus(\"Volvo\",7)\n",
        "bus_ride.Fare()"
      ],
      "execution_count": 11,
      "outputs": [
        {
          "output_type": "stream",
          "name": "stdout",
          "text": [
            "Fare is 400\n",
            "Fare is 5500.0\n"
          ]
        }
      ]
    }
  ]
}
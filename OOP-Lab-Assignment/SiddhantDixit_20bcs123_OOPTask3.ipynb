{
  "nbformat": 4,
  "nbformat_minor": 2,
  "metadata": {
    "colab": {
      "name": "SiddhantDixit_20bcs123_OOPTask3.ipynb",
      "provenance": [],
      "collapsed_sections": []
    },
    "kernelspec": {
      "name": "python3",
      "display_name": "Python 3.9.4 64-bit"
    },
    "language_info": {
      "name": "python",
      "version": "3.9.4",
      "mimetype": "text/x-python",
      "codemirror_mode": {
        "name": "ipython",
        "version": 3
      },
      "pygments_lexer": "ipython3",
      "nbconvert_exporter": "python",
      "file_extension": ".py"
    },
    "interpreter": {
      "hash": "558802ee62ad00077b1e13aabce3970070a978d35856ddf482faf180fa7e2679"
    }
  },
  "cells": [
    {
      "cell_type": "markdown",
      "source": [
        "<a href=\"https://colab.research.google.com/github/siddhantdixit/OOP-ClassWork/blob/main/OOP-Lab-Assignment/SiddhantDixit_20bcs123_OOPTask3.ipynb\" target=\"_parent\"><img src=\"https://colab.research.google.com/assets/colab-badge.svg\" alt=\"Open In Colab\"/></a>"
      ],
      "metadata": {
        "id": "view-in-github"
      }
    },
    {
      "cell_type": "markdown",
      "source": [
        "# Question - 1"
      ],
      "metadata": {
        "id": "pJeWsHbNmvmL"
      }
    },
    {
      "cell_type": "code",
      "execution_count": 14,
      "source": [
        "class Student:\r\n",
        "    def __init__(self,name,roll_no,age,gender,branch,sem): \r\n",
        "        self.name = name\r\n",
        "        self.roll_no = roll_no\r\n",
        "        self.age = age\r\n",
        "        self.gender = gender\r\n",
        "        self.branch = branch\r\n",
        "        self.sem = sem\r\n",
        "    \r\n",
        "class StudentInfo(Student):\r\n",
        "    def __init__(self,name,roll_no,age,gender,branch,sem,total_marks,\r\n",
        "                 percentage,grade):\r\n",
        "        Student.__init__(self,name,roll_no,age,gender,branch,sem)\r\n",
        "        self.total_marks = total_marks\r\n",
        "        self.percentage = percentage\r\n",
        "        self.grade = grade\r\n",
        "        \r\n",
        "    @classmethod\r\n",
        "    def student_data_input(cls):\r\n",
        "        name = input(\"Enter Name:\")\r\n",
        "        roll_no = input(\"Roll No:\")\r\n",
        "        age = int(input(\"Enter Age:\"))\r\n",
        "        gender = input(\"Gender:\")\r\n",
        "        branch = input(\"Branch:\")\r\n",
        "        sem = int(input(\"Semester:\"))\r\n",
        "        total_marks = input(\"Marks Obtained:\")\r\n",
        "        percentage = input(\"Percentage:\")\r\n",
        "        grade  = input(\"Grade:\")\r\n",
        "        return StudentInfo(name,roll_no,age,gender,branch,sem,total_marks,\r\n",
        "                                 percentage,grade)\r\n",
        "\r\n",
        "    \r\n",
        "    def printBasic(self):\r\n",
        "        print(\"STUDENT DETAILS: \")\r\n",
        "        print(self.name)\r\n",
        "        print(self.roll_no)\r\n",
        "        print(self.age)\r\n",
        "        print(self.gender)\r\n",
        "        print(self.branch)\r\n",
        "        print(self.sem)\r\n",
        "\r\n",
        "    def printInfo(self):\r\n",
        "        print(\"STUDENT ACADEMIC PERFORMANCE: \")\r\n",
        "        print(self.total_marks)\r\n",
        "        print(self.percentage)\r\n",
        "        print(self.grade)\r\n",
        "\r\n",
        "homie = StudentInfo.student_data_input()\r\n",
        "homie.printBasic()\r\n",
        "homie.printInfo()"
      ],
      "outputs": [
        {
          "output_type": "stream",
          "name": "stdout",
          "text": [
            "Enter Name:Siddhant Dixit\n",
            "Roll No:20bcs123\n",
            "Enter Age:19\n",
            "Gender:Male\n",
            "Branch:CSE\n",
            "Semester:3\n",
            "Marks Obtained:450\n",
            "Percentage:99%\n",
            "Grade:A+\n",
            "STUDENT DETAILS: \n",
            "Siddhant Dixit\n",
            "20bcs123\n",
            "19\n",
            "Male\n",
            "CSE\n",
            "3\n",
            "STUDENT ACADEMIC PERFORMANCE: \n",
            "450\n",
            "99%\n",
            "A+\n"
          ]
        }
      ],
      "metadata": {
        "colab": {
          "base_uri": "https://localhost:8080/"
        },
        "id": "fDBbFofemxoa",
        "outputId": "a741ac98-ec75-49e0-bc18-83212dc5b32f"
      }
    },
    {
      "cell_type": "markdown",
      "source": [
        "# Question - 2"
      ],
      "metadata": {
        "id": "zr-TUxWVpBko"
      }
    },
    {
      "cell_type": "code",
      "execution_count": 12,
      "source": [
        "class pdf:\r\n",
        "    def __init__(self,creator,desc,size):\r\n",
        "        self.creator = creator\r\n",
        "        self.description = desc\r\n",
        "        self.size = size\r\n",
        "\r\n",
        "class pictures(pdf):\r\n",
        "    def __init__(self,creator,desc,size,dimensions = [0,0]):\r\n",
        "        self.dimensions = dimensions\r\n",
        "        pdf.__init__(self,creator,desc,size)\r\n",
        "\r\n",
        "\r\n",
        "    def FileSize(self,threshold):\r\n",
        "        if threshold[0]*threshold[1]<self.dimensions[0]*self.dimensions[1]:\r\n",
        "            return True\r\n",
        "            print(\"File Larger than Given threshhold.\")\r\n",
        "        return False\r\n",
        "        print(\"File does not exceed given Limit.\")\r\n",
        "    \r\n",
        "    def DocDetails(self):\r\n",
        "        if self.dimensions != [0,0]:\r\n",
        "            print(f\"Dimensions: {self.dimensions[0]} X {self.dimensions[1]}\")\r\n",
        "\r\n",
        "        print(f\"File Creator: {self.creator}\")\r\n",
        "        print(f\"Description: {self.description}\")\r\n",
        "        print(f\"File Size(kb): {self.size}\")\r\n",
        "\r\n",
        "random_pic = pictures(\"Aman\",\"It was taken Yesterday.\",1024,[1920,1080])\r\n",
        "random_pic.FileSize([3400,920])\r\n",
        "random_pic.DocDetails()\r\n",
        "\r\n",
        "random_pdf = pictures(\"Pawan\",\"It is a good photo.\",2048)\r\n",
        "random_pdf.DocDetails()"
      ],
      "outputs": [
        {
          "output_type": "stream",
          "name": "stdout",
          "text": [
            "Dimensions: 1920 X 1080\n",
            "File Creator: Aman\n",
            "Description: It was taken Yesterday.\n",
            "File Size(kb): 1024\n",
            "File Creator: Pawan\n",
            "Description: It is a good photo.\n",
            "File Size(kb): 2048\n"
          ]
        }
      ],
      "metadata": {
        "colab": {
          "base_uri": "https://localhost:8080/"
        },
        "id": "rO0J4ij4pDNN",
        "outputId": "cd0f03ac-f1a6-4372-bbe5-9662b0f2b270"
      }
    },
    {
      "cell_type": "markdown",
      "source": [
        "# Question - 3"
      ],
      "metadata": {
        "id": "MVVSMRfVyr1w"
      }
    },
    {
      "cell_type": "code",
      "execution_count": 11,
      "source": [
        "class Vehicle:\r\n",
        "    def __init__(self,name,milage,capacity):\r\n",
        "        self.name = name\r\n",
        "        self.milage = milage\r\n",
        "        self.capacity = capacity\r\n",
        "\r\n",
        "    def Fare(self):\r\n",
        "        fare = self.capacity * 100\r\n",
        "        print(f\"Fare is {fare}\")\r\n",
        "        return fare\r\n",
        "\r\n",
        "class Bus(Vehicle):\r\n",
        "    maintenance = 0.1\r\n",
        "\r\n",
        "    def __init__(self,name,milage):\r\n",
        "        Vehicle.__init__(self,name,milage,50)\r\n",
        "\r\n",
        "    def Fare(self):\r\n",
        "        fare = (1 + Bus.maintenance) * (self.capacity * 100)\r\n",
        "        print(f\"Fare is {fare}\")\r\n",
        "\r\n",
        "ola_cab = Vehicle(\"SUV\",11,4)\r\n",
        "ola_cab.Fare()\r\n",
        "\r\n",
        "bus_ride = Bus(\"Volvo\",7)\r\n",
        "bus_ride.Fare()"
      ],
      "outputs": [
        {
          "output_type": "stream",
          "name": "stdout",
          "text": [
            "Fare is 400\n",
            "Fare is 5500.0\n"
          ]
        }
      ],
      "metadata": {
        "colab": {
          "base_uri": "https://localhost:8080/"
        },
        "id": "D50tx_z-y1lO",
        "outputId": "d522bfe6-7008-49db-de9b-7af55f7b4cbf"
      }
    }
  ]
}
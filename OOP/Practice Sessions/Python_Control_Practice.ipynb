{
  "nbformat": 4,
  "nbformat_minor": 0,
  "metadata": {
    "colab": {
      "name": "Python-Control-Practice.ipynb",
      "provenance": [],
      "collapsed_sections": []
    },
    "kernelspec": {
      "name": "python3",
      "display_name": "Python 3"
    },
    "language_info": {
      "name": "python"
    }
  },
  "cells": [
    {
      "cell_type": "markdown",
      "metadata": {
        "id": "kT42ekZXCgVj"
      },
      "source": [
        "### Python if Statement Syntax"
      ]
    },
    {
      "cell_type": "code",
      "metadata": {
        "id": "XU5OenBXCpla"
      },
      "source": [
        "# If the number is positive, we print an appropriate message\n",
        "\n",
        "# Python if... Statement - 1 option\n",
        "num = 30\n",
        "if num > 0:\n",
        "    print(num, \"is a positive number.\")\n",
        "print(\"printed number status.\")\n",
        "\n",
        "# Python if...else Statement  - 2 option\n",
        "if num >= 0:\n",
        "    print(\"Positive or Zero\")\n",
        "else:\n",
        "    print(\"Negative number\")\n",
        "\n",
        "# Python if...elif...else Statement - 3 Option\n",
        "if num > 0:\n",
        "    print(\"Positive number\")\n",
        "elif num == 0:\n",
        "    print(\"Zero\")\n",
        "else:\n",
        "    print(\"Negative number\")"
      ],
      "execution_count": null,
      "outputs": []
    },
    {
      "cell_type": "markdown",
      "metadata": {
        "id": "NbR8TUc7CtlS"
      },
      "source": [
        "### * Python Nested if statements\n",
        "\n",
        "If if...elif...else statement is used inside another if...elif...else statement, then it is called nesting in computer programming."
      ]
    },
    {
      "cell_type": "code",
      "metadata": {
        "id": "Db9MJdWECzbM"
      },
      "source": [
        "num = float(input(\"Enter a number: \"))\n",
        "\n",
        "if num >= 0:\n",
        "    if num == 0:\n",
        "        print(\"Zero\")\n",
        "    else:\n",
        "        print(\"Positive number\")\n",
        "else:\n",
        "    print(\"Negative number\")"
      ],
      "execution_count": null,
      "outputs": []
    },
    {
      "cell_type": "markdown",
      "metadata": {
        "id": "xfz65qHKC5Yd"
      },
      "source": [
        "## Python for Loop:"
      ]
    },
    {
      "cell_type": "code",
      "metadata": {
        "id": "9jHH2_ZMDADA"
      },
      "source": [
        "# Program to find the sum of all numbers stored in a list\n",
        "\n",
        "# List of numbers\n",
        "numbers = [60, 25, 33, 85, 40, 22, 55, 43, 51]\n",
        "\n",
        "# variable to store the sum\n",
        "sum = 0\n",
        "\n",
        "# iterate over the list\n",
        "for val in numbers:\n",
        "    sum = sum+val\n",
        "\n",
        "print(\"The sum is\", sum)"
      ],
      "execution_count": null,
      "outputs": []
    },
    {
      "cell_type": "markdown",
      "metadata": {
        "id": "-RIkKIP8DIFp"
      },
      "source": [
        "## The range() function\n",
        "* We can generate a sequence of numbers using range() function. range(10) will generate numbers from 0 to 9 (10 numbers).\n",
        "* We can also define the start, stop and step size as range(start, stop,step_size). step_size defaults to 1 if not provided.\n",
        "* This function does not store all the values in memory; it would be inefficient. So it remembers the start, stop, step size and generates the next number on the go.\n",
        "* To force this function to output all the items, we can use the function list()."
      ]
    },
    {
      "cell_type": "code",
      "metadata": {
        "id": "fDuWxeaeDQhX"
      },
      "source": [
        "print(range(10))\n",
        "print(list(range(15)))\n",
        "print(list(range(2, 10)))\n",
        "print(list(range(2, 30, 3)))"
      ],
      "execution_count": null,
      "outputs": []
    },
    {
      "cell_type": "code",
      "metadata": {
        "id": "AfstgzBWDVaw"
      },
      "source": [
        "# Program to iterate through a list using indexing\n",
        "\n",
        "music = ['pop', 'rock', 'jazz','classic']\n",
        "\n",
        "# iterate over the list using index\n",
        "\n",
        "for i in range(len(music)):\n",
        "    print(\"I like\", music[i])\n",
        "\n",
        "#combined with the len() function to iterate through a sequence using indexing. "
      ],
      "execution_count": null,
      "outputs": []
    },
    {
      "cell_type": "markdown",
      "metadata": {
        "id": "hsK_PSdnDY1C"
      },
      "source": [
        "## for loop with else"
      ]
    },
    {
      "cell_type": "code",
      "metadata": {
        "id": "JKI1oudBDePH"
      },
      "source": [
        "# program to display student's marks from record\n",
        "student_name = 'Soyuj'\n",
        "\n",
        "marks = {'James': 90, 'Jules': 55, 'Arthur': 77}\n",
        "\n",
        "for student in marks:\n",
        "    if student == student_name:\n",
        "        print(marks[student])\n",
        "        break\n",
        "else:\n",
        "    print('No entry with that name found.')\n",
        "\n",
        "\n",
        "# Use of break statement inside the loop\n",
        "\n",
        "for val in \"string\":\n",
        "    if val == \"i\":\n",
        "        break\n",
        "    print(val)\n",
        "\n",
        "print(\"The end\")\n",
        "\n",
        "\n",
        "# Program to show the use of continue statement inside loops\n",
        "\n",
        "for val in \"string\":\n",
        "    if val == \"i\":\n",
        "        continue\n",
        "    print(val)\n",
        "\n",
        "print(\"The end\")"
      ],
      "execution_count": null,
      "outputs": []
    },
    {
      "cell_type": "markdown",
      "metadata": {
        "id": "omMqFa4LDho1"
      },
      "source": [
        "## while loop in Python\n",
        "* The while loop in Python is used to iterate over a block of code as long as the test expression (condition) is true."
      ]
    },
    {
      "cell_type": "code",
      "metadata": {
        "id": "A2qPDnt2DrZo"
      },
      "source": [
        "# To take input from the user,\n",
        "# n = int(input(\"Enter n: \"))\n",
        "\n",
        "n = 10\n",
        "\n",
        "# initialize sum and counter\n",
        "sum = 0\n",
        "i = 1\n",
        "\n",
        "while i <= n:\n",
        "    sum = sum + i\n",
        "    i = i+1    # update counter\n",
        "\n",
        "# print the sum\n",
        "print(\"The sum is\", sum)\n",
        "\n",
        "\n",
        "# While loop with else\n",
        "\n",
        "'''Example to illustrate\n",
        "the use of else statement\n",
        "with the while loop'''\n",
        "\n",
        "counter = 0\n",
        "\n",
        "while counter < 3:\n",
        "    print(\"Inside loop\")\n",
        "    counter = counter + 1\n",
        "else:\n",
        "    print(\"Inside else\")"
      ],
      "execution_count": null,
      "outputs": []
    }
  ]
}
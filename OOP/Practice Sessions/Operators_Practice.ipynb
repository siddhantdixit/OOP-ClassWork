{
  "nbformat": 4,
  "nbformat_minor": 2,
  "metadata": {
    "colab": {
      "name": "Operators-Practice.ipynb",
      "provenance": [],
      "collapsed_sections": []
    },
    "kernelspec": {
      "name": "python3",
      "display_name": "Python 3.9.4 64-bit"
    },
    "language_info": {
      "name": "python",
      "version": "3.9.4",
      "mimetype": "text/x-python",
      "codemirror_mode": {
        "name": "ipython",
        "version": 3
      },
      "pygments_lexer": "ipython3",
      "nbconvert_exporter": "python",
      "file_extension": ".py"
    },
    "interpreter": {
      "hash": "558802ee62ad00077b1e13aabce3970070a978d35856ddf482faf180fa7e2679"
    }
  },
  "cells": [
    {
      "cell_type": "code",
      "execution_count": null,
      "source": [],
      "outputs": [],
      "metadata": {
        "id": "SGorguxW-zTb"
      }
    },
    {
      "cell_type": "markdown",
      "source": [
        "## Arithmetic operators\n",
        "Arithmetic operators are used to perform mathematical operations like addition, subtraction, multiplication, etc."
      ],
      "metadata": {
        "id": "4EQfxrpB-z_T"
      }
    },
    {
      "cell_type": "code",
      "execution_count": null,
      "source": [
        "m = 15\r\n",
        "n = 4\r\n",
        "\r\n",
        "# Output: m + n = 19\r\n",
        "print('m + n =',m+n)\r\n",
        "\r\n",
        "# Output: m - n = 11\r\n",
        "print('m - n =',m-n)\r\n",
        "\r\n",
        "# Output: m * n = 60\r\n",
        "print('m * n =',m*n)\r\n",
        "\r\n",
        "# Output: m / n = 3.75\r\n",
        "print('m / n =',m/n)\r\n",
        "\r\n",
        "# Output: m // n = 3\r\n",
        "print('m // n =',m//n)\r\n",
        "\r\n",
        "# Output: m ** n = 50625\r\n",
        "print('m ** n =',m**n)"
      ],
      "outputs": [],
      "metadata": {
        "id": "o4CZUyil-8JG"
      }
    },
    {
      "cell_type": "markdown",
      "source": [
        "## Comparison operators\n",
        "* Comparison operators are used to compare values. It returns either True or False according to the condition."
      ],
      "metadata": {
        "id": "ZQW5vhPd-9SK"
      }
    },
    {
      "cell_type": "code",
      "execution_count": null,
      "source": [
        "a = 10\r\n",
        "b = 12\r\n",
        "\r\n",
        "# Output: a > b is False\r\n",
        "print('a > b is',a>b)\r\n",
        "\r\n",
        "# Output: a < b is True\r\n",
        "print('a < b is',a<b)\r\n",
        "\r\n",
        "# Output: a == b is False\r\n",
        "print('a == b is',a==b)\r\n",
        "\r\n",
        "# Output: a != b is True\r\n",
        "print('a != b is',a!=b)\r\n",
        "\r\n",
        "# Output: a >= b is False\r\n",
        "print('a >= b is',a>=b)\r\n",
        "\r\n",
        "# Output: a <= b is True\r\n",
        "print('a <= b is',a<=b)"
      ],
      "outputs": [],
      "metadata": {
        "id": "nYhq1kMJ_GlD"
      }
    },
    {
      "cell_type": "markdown",
      "source": [
        "## Logical operators"
      ],
      "metadata": {
        "id": "vEMPYgwP_J6s"
      }
    },
    {
      "cell_type": "code",
      "execution_count": null,
      "source": [
        "m = True\r\n",
        "n = False\r\n",
        "\r\n",
        "print('m and n is',m and n)\r\n",
        "\r\n",
        "print('x or y is',x or y)\r\n",
        "\r\n",
        "print('not x is',not x)"
      ],
      "outputs": [],
      "metadata": {
        "id": "yOXyJUYK_Ozu"
      }
    },
    {
      "cell_type": "markdown",
      "source": [
        "## Bitwise operators\n",
        "* Bitwise operators act on operands as if they were strings of binary digits. They operate bit by bit, hence the name.\n",
        "\n",
        "For example, 2 is 10 in binary and 7 is 111."
      ],
      "metadata": {
        "id": "9A52G8rc_Sg3"
      }
    },
    {
      "cell_type": "code",
      "execution_count": 2,
      "source": [
        "x=10\r\n",
        "y= 4\r\n",
        "x & y == 0 #(0b00000000)\r\n",
        "x ^ y == 14 #(0b00001110)\r\n",
        "x << 2 == 40 #(0b00101000)\r\n",
        "x >> 2 == 2 #(0b00000010)"
      ],
      "outputs": [
        {
          "output_type": "stream",
          "name": "stderr",
          "text": [
            "<>:3: SyntaxWarning: 'int' object is not callable; perhaps you missed a comma?\n",
            "<>:4: SyntaxWarning: 'int' object is not callable; perhaps you missed a comma?\n",
            "<>:5: SyntaxWarning: 'int' object is not callable; perhaps you missed a comma?\n",
            "<>:6: SyntaxWarning: 'int' object is not callable; perhaps you missed a comma?\n",
            "<>:3: SyntaxWarning: 'int' object is not callable; perhaps you missed a comma?\n",
            "<>:4: SyntaxWarning: 'int' object is not callable; perhaps you missed a comma?\n",
            "<>:5: SyntaxWarning: 'int' object is not callable; perhaps you missed a comma?\n",
            "<>:6: SyntaxWarning: 'int' object is not callable; perhaps you missed a comma?\n",
            "<ipython-input-2-20d20789ed6b>:3: SyntaxWarning: 'int' object is not callable; perhaps you missed a comma?\n",
            "  x & y == 0 (0b00000000)\n"
          ]
        },
        {
          "output_type": "error",
          "ename": "TypeError",
          "evalue": "'int' object is not callable",
          "traceback": [
            "\u001b[1;31m---------------------------------------------------------------------------\u001b[0m",
            "\u001b[1;31mTypeError\u001b[0m                                 Traceback (most recent call last)",
            "\u001b[1;32m<ipython-input-2-20d20789ed6b>\u001b[0m in \u001b[0;36m<module>\u001b[1;34m\u001b[0m\n\u001b[0;32m      1\u001b[0m \u001b[0mx\u001b[0m\u001b[1;33m=\u001b[0m\u001b[1;36m10\u001b[0m\u001b[1;33m\u001b[0m\u001b[1;33m\u001b[0m\u001b[0m\n\u001b[0;32m      2\u001b[0m \u001b[0my\u001b[0m\u001b[1;33m=\u001b[0m \u001b[1;36m4\u001b[0m\u001b[1;33m\u001b[0m\u001b[1;33m\u001b[0m\u001b[0m\n\u001b[1;32m----> 3\u001b[1;33m \u001b[0mx\u001b[0m \u001b[1;33m&\u001b[0m \u001b[0my\u001b[0m \u001b[1;33m==\u001b[0m \u001b[1;36m0\u001b[0m \u001b[1;33m(\u001b[0m\u001b[1;36m0b00000000\u001b[0m\u001b[1;33m)\u001b[0m\u001b[1;33m\u001b[0m\u001b[1;33m\u001b[0m\u001b[0m\n\u001b[0m\u001b[0;32m      4\u001b[0m \u001b[0mx\u001b[0m \u001b[1;33m^\u001b[0m \u001b[0my\u001b[0m \u001b[1;33m==\u001b[0m \u001b[1;36m14\u001b[0m \u001b[1;33m(\u001b[0m\u001b[1;36m0b00001110\u001b[0m\u001b[1;33m)\u001b[0m\u001b[1;33m\u001b[0m\u001b[1;33m\u001b[0m\u001b[0m\n\u001b[0;32m      5\u001b[0m \u001b[0mx\u001b[0m \u001b[1;33m<<\u001b[0m \u001b[1;36m2\u001b[0m \u001b[1;33m==\u001b[0m \u001b[1;36m40\u001b[0m \u001b[1;33m(\u001b[0m\u001b[1;36m0b00101000\u001b[0m\u001b[1;33m)\u001b[0m\u001b[1;33m\u001b[0m\u001b[1;33m\u001b[0m\u001b[0m\n",
            "\u001b[1;31mTypeError\u001b[0m: 'int' object is not callable"
          ]
        }
      ],
      "metadata": {
        "id": "cRYstBNlAEO1"
      }
    },
    {
      "cell_type": "markdown",
      "source": [
        "## Assignment operators\n",
        "* Assignment operators are used in Python to assign values to variables."
      ],
      "metadata": {
        "id": "HG7A4vEu_b5j"
      }
    },
    {
      "cell_type": "code",
      "execution_count": null,
      "source": [
        "a=2\r\n",
        "a += 5\r\n",
        "a %= 5\r\n",
        "a **= 5\r\n",
        "a //= 5\r\n",
        "print(a)"
      ],
      "outputs": [],
      "metadata": {
        "id": "CmxOH3tM_osE"
      }
    },
    {
      "cell_type": "markdown",
      "source": [
        "## Special operators\n",
        "* Python language offers some special types of operators like the identity operator or the membership operator.\n",
        "\n",
        "## Identity operators\n",
        "* is and is not are the identity operators in Python.\n",
        "* They are used to check if two values (or variables) are located on the same part of the memory.\n",
        "* Two variables that are equal does not imply that they are identical."
      ],
      "metadata": {
        "id": "iSfVm8PVAoqX"
      }
    },
    {
      "cell_type": "code",
      "execution_count": null,
      "source": [
        "x1 = 10\r\n",
        "y1 = 10\r\n",
        "x2 = 'Welcome'\r\n",
        "y2 = 'Welcome'\r\n",
        "x3 = [10,20,30]\r\n",
        "y3 = [10,20,30]\r\n",
        "\r\n",
        "# Output: False\r\n",
        "print(x1 is not y1)\r\n",
        "\r\n",
        "# Output: True\r\n",
        "print(x2 is y2)\r\n",
        "\r\n",
        "# Output: False\r\n",
        "print(x3 is y3)"
      ],
      "outputs": [],
      "metadata": {
        "id": "oSUX8tYVAyEy"
      }
    },
    {
      "cell_type": "markdown",
      "source": [
        "## Membership operators\n",
        "* in and not in are the membership operators in Python.\n",
        "* They are used to test whether a value or variable is found in a sequence (string, tuple, set, list, dictionary)"
      ],
      "metadata": {
        "id": "t6X9rlnnA1id"
      }
    },
    {
      "cell_type": "code",
      "execution_count": null,
      "source": [
        "x = 'Hello world'\r\n",
        "y = {1:'a',2:'b'}\r\n",
        "\r\n",
        "# Output: True\r\n",
        "print('H' in x)\r\n",
        "\r\n",
        "# Output: True\r\n",
        "print('hello' not in x)\r\n",
        "\r\n",
        "# Output: True\r\n",
        "print(1 in y)\r\n",
        "\r\n",
        "# Output: False\r\n",
        "print('a' in y)"
      ],
      "outputs": [],
      "metadata": {
        "id": "Qxcd6jPRA6h4"
      }
    }
  ]
}
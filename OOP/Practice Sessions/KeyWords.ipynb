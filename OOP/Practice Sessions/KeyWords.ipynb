{
  "nbformat": 4,
  "nbformat_minor": 2,
  "metadata": {
    "colab": {
      "name": "PythonBasics-Practice.ipynb",
      "provenance": [],
      "collapsed_sections": []
    },
    "kernelspec": {
      "name": "python3",
      "display_name": "Python 3.9.4 64-bit"
    },
    "language_info": {
      "name": "python",
      "version": "3.9.4",
      "mimetype": "text/x-python",
      "codemirror_mode": {
        "name": "ipython",
        "version": 3
      },
      "pygments_lexer": "ipython3",
      "nbconvert_exporter": "python",
      "file_extension": ".py"
    },
    "interpreter": {
      "hash": "558802ee62ad00077b1e13aabce3970070a978d35856ddf482faf180fa7e2679"
    }
  },
  "cells": [
    {
      "cell_type": "code",
      "execution_count": null,
      "source": [
        "### Python - Practice"
      ],
      "outputs": [],
      "metadata": {
        "id": "9wO639a_rZmW"
      }
    },
    {
      "cell_type": "markdown",
      "source": [
        "## Python Keywords and Identifiers\r\n"
      ],
      "metadata": {
        "id": "FqkvLAQcrbSl"
      }
    },
    {
      "cell_type": "markdown",
      "source": [
        "## Python Statement\n"
      ],
      "metadata": {
        "id": "_fIA2pdTsC_o"
      }
    },
    {
      "cell_type": "code",
      "execution_count": null,
      "source": [
        "var1 = 50"
      ],
      "outputs": [],
      "metadata": {
        "id": "nQNTpjUWsIF_"
      }
    },
    {
      "cell_type": "markdown",
      "source": [
        "### Multiline statements:"
      ],
      "metadata": {
        "id": "dTpCEcLksck4"
      }
    },
    {
      "cell_type": "markdown",
      "source": [
        "sum = 100 + 25 + 30 + \\\r\n",
        "    49 + 58 + 62 + \\\r\n",
        "    70 + 82 + 94\r\n",
        "\r\n"
      ],
      "metadata": {
        "id": "cbOPJ7Q-sYAA"
      }
    },
    {
      "cell_type": "code",
      "execution_count": 3,
      "source": [
        "temp = (10 + 32 + 53 +\r\n",
        "    40 + 52 + 46 +\r\n",
        "    27 + 68 + 59)\r\n",
        "\r\n",
        "\r\n",
        "car_Colours = ['red',\r\n",
        "                'blue',\r\n",
        "                'green',\r\n",
        "                'pink']\r\n",
        "\r\n",
        "\r\n",
        "a = 1; b = 2; c = 3"
      ],
      "outputs": [],
      "metadata": {
        "id": "qeikRN0UsnhY"
      }
    },
    {
      "cell_type": "markdown",
      "source": [
        "## Python Indentation"
      ],
      "metadata": {
        "id": "OUesgqzbsuZI"
      }
    },
    {
      "cell_type": "code",
      "execution_count": 2,
      "source": [
        "for k in range(1,10) :\r\n",
        "    print(k)\r\n",
        "    if k == 5 + 4:\r\n",
        "        break\r\n",
        "\r\n",
        "if True:\r\n",
        "    print('Hello')\r\n",
        "    a = 5\r\n",
        "\r\n",
        "if True: print('Bye'); a = 5"
      ],
      "outputs": [
        {
          "output_type": "stream",
          "name": "stdout",
          "text": [
            "1\n",
            "2\n",
            "3\n",
            "4\n",
            "5\n",
            "6\n",
            "7\n",
            "8\n",
            "9\n",
            "Hello\n",
            "Bye\n"
          ]
        }
      ],
      "metadata": {
        "colab": {
          "base_uri": "https://localhost:8080/"
        },
        "id": "51SElv7Lte_f",
        "outputId": "2fa4a3db-af69-46a0-8651-50a269bcb447"
      }
    },
    {
      "cell_type": "markdown",
      "source": [
        "Python Comments"
      ],
      "metadata": {
        "id": "xuKO0kaHs694"
      }
    },
    {
      "cell_type": "code",
      "execution_count": null,
      "source": [
        "\r\n",
        "print('Welcome to OOP Course')\r\n",
        "\r\n",
        "\r\n",
        "\"\"\"This is also a\r\n",
        "an example of\r\n",
        "multi-line comments\"\"\""
      ],
      "outputs": [
        {
          "output_type": "stream",
          "name": "stdout",
          "text": [
            "Welcome to OOP Course\n"
          ]
        },
        {
          "output_type": "execute_result",
          "data": {
            "application/vnd.google.colaboratory.intrinsic+json": {
              "type": "string"
            },
            "text/plain": [
              "'This is also a\\nan example of\\nmulti-line comments'"
            ]
          },
          "metadata": {
            "tags": []
          },
          "execution_count": 3
        }
      ],
      "metadata": {
        "colab": {
          "base_uri": "https://localhost:8080/",
          "height": 52
        },
        "id": "pGMQkPL2tC0B",
        "outputId": "71bed1b2-eac7-4fa3-a9d7-cf81e2d7f732"
      }
    },
    {
      "cell_type": "markdown",
      "source": [
        "## doc string comments"
      ],
      "metadata": {
        "id": "3j2W0aFYttr6"
      }
    },
    {
      "cell_type": "code",
      "execution_count": 1,
      "source": [
        "def sum(num):\r\n",
        "    \"\"\"Function to the values\"\"\"\r\n",
        "    return 2+num\r\n",
        "\r\n",
        "print(sum.__doc__)"
      ],
      "outputs": [
        {
          "output_type": "stream",
          "name": "stdout",
          "text": [
            "Function to the values\n"
          ]
        }
      ],
      "metadata": {
        "id": "1wVQf6eYtpi0"
      }
    }
  ]
}
{
  "nbformat": 4,
  "nbformat_minor": 0,
  "metadata": {
    "colab": {
      "name": "Python-DataTypes-Practice.ipynb",
      "provenance": [],
      "collapsed_sections": []
    },
    "kernelspec": {
      "name": "python3",
      "display_name": "Python 3"
    },
    "language_info": {
      "name": "python"
    }
  },
  "cells": [
    {
      "cell_type": "code",
      "metadata": {
        "id": "klQCzlmMyngD"
      },
      "source": [
        ""
      ],
      "execution_count": null,
      "outputs": []
    },
    {
      "cell_type": "markdown",
      "metadata": {
        "id": "gfN5ant9yoDU"
      },
      "source": [
        "\n",
        "\n",
        "## Data types in Python\n",
        "Objectives : \n",
        "* To learn about different data types you can use in Python.\n",
        "\n",
        "Every value in Python has a datatype. Since everything is an object in Python programming, data types are actually classes and variables are instance (object) of these classes.\n",
        "\n",
        "There are various data types in Python. \n",
        "\n",
        "### Python Numbers\n",
        "* Integers, floating point numbers and complex numbers are listed under Python Numbers Category.\n",
        "* Python numbers are defined as int, float and complex classes in Python."
      ]
    },
    {
      "cell_type": "code",
      "metadata": {
        "id": "TFv87Uroy-ew"
      },
      "source": [
        "temp = 5\n",
        "print(temp, \"is of type\", type(temp))\n",
        "\n",
        "Size = 2.0\n",
        "print(Size, \"is of type\", type(Size))\n",
        "\n",
        "complexNum = 1+2j\n",
        "print(a, \"is complex number?\", isinstance(1+2j,complexNum))"
      ],
      "execution_count": null,
      "outputs": []
    },
    {
      "cell_type": "markdown",
      "metadata": {
        "id": "EsTbRdl6zGFp"
      },
      "source": [
        "## Python List\n",
        "List in python is an ordered sequence of items.\n",
        "* It is one of the most used datatype in Python and is very flexible.\n",
        "* All the items in a list can be different data type.\n",
        "* list Items separated by commas are enclosed within brackets [ ].\n",
        "* Use the slicing operator [ ] to extract an item or a range of items from a list.\n",
        "* The index starts from 0 in Python.\n",
        "* Lists are mutable, meaning, the value of elements of a list can be altered."
      ]
    },
    {
      "cell_type": "code",
      "metadata": {
        "id": "lXB5K-gYzVNH"
      },
      "source": [
        "temp = [5,10,15,20,25,30,35,40]\n",
        "\n",
        "# temp[2] = 15\n",
        "print(\"a[2] = \", temp[2])\n",
        "\n",
        "# temp[0:3] = [5, 10, 15]\n",
        "print(\"temp[0:3] = \", temp[0:3])\n",
        "\n",
        "# temp[5:] = [30, 35, 40]\n",
        "print(\"temp[5:] = \", temp[5:])\n",
        "\n",
        "a = [1, 2, 3]\n",
        "a[2] = 4       # mutable\n",
        "print(a)"
      ],
      "execution_count": null,
      "outputs": []
    },
    {
      "cell_type": "markdown",
      "metadata": {
        "id": "debEtufQzWPP"
      },
      "source": [
        "## Python Strings\n",
        "* Strings is sequence of Unicode characters.\n",
        "* use single quotes or double quotes to represent strings.\n",
        "* Multi-line strings can be denoted using triple quotes, ''' or \"\"\""
      ]
    },
    {
      "cell_type": "code",
      "metadata": {
        "id": "8Xik-LiPzgvy"
      },
      "source": [
        "str1 = 'Hello world!'\n",
        "\n",
        "# str1[4] = 'o'\n",
        "print(\"str1[4] = \", str1[4])\n",
        "\n",
        "# str1[6:11] = 'world'\n",
        "print(\"str1[6:11] = \", str1[6:11])\n",
        "\n",
        "# Generates error\n",
        "# Strings are immutable in Python\n",
        "str1[5] ='d'"
      ],
      "execution_count": null,
      "outputs": []
    },
    {
      "cell_type": "code",
      "metadata": {
        "id": "xU5AiapTzn37"
      },
      "source": [
        ""
      ],
      "execution_count": null,
      "outputs": []
    },
    {
      "cell_type": "markdown",
      "metadata": {
        "id": "1cNHN61kzrQd"
      },
      "source": [
        "## Python Set\n",
        "* Set is an unordered collection of unique items.\n",
        "* Set is defined by values separated by comma inside braces { }.\n",
        "* Items in a set are not ordered.\n",
        "* set are unordered collection, indexing has no meaning. Hence, the slicing operator [] does not work."
      ]
    },
    {
      "cell_type": "code",
      "metadata": {
        "id": "2GCjmRcCzzwU"
      },
      "source": [
        "test = {5,2,3,1,4}\n",
        "\n",
        "# printing set variable\n",
        "print(\"test = \", test)\n",
        "\n",
        "# data type of variable a\n",
        "print(type(test))\n",
        "\n",
        "\n",
        "sample = {1,2,3}\n",
        "print(sample[1])  # does not work"
      ],
      "execution_count": null,
      "outputs": []
    },
    {
      "cell_type": "markdown",
      "metadata": {
        "id": "zpD-tga6z4tH"
      },
      "source": [
        "## Python Dictionary\n",
        "* Dictionary is an unordered collection of key-value pairs.\n",
        "* Dictionaries are used when there is large dataset processing.\n",
        "* Dictionaries are optimized for retrieving data.\n",
        "* key is required to retrieve the value.\n",
        "* Dictionaries are defined within braces {} with each item being a pair in the form key:value.\n",
        "* Key and value can be of any type."
      ]
    },
    {
      "cell_type": "code",
      "metadata": {
        "id": "96MYYAtnz_0X"
      },
      "source": [
        "dict1 = {1:'value','key':4}\n",
        "print(type(dict1))\n",
        "\n",
        "print(\"dict1[1] = \", dict1[1])\n",
        "\n",
        "print(\"dict1['key'] = \", dict1['key'])"
      ],
      "execution_count": null,
      "outputs": []
    },
    {
      "cell_type": "markdown",
      "metadata": {
        "id": "SotLe4xS0FB-"
      },
      "source": [
        "## Conversion between data types\n",
        "Data types can be converted using different type conversion functions like int(), float(), str(), etc."
      ]
    },
    {
      "cell_type": "code",
      "metadata": {
        "id": "eHiCNxGS0JZ7"
      },
      "source": [
        "float(5)\n",
        "int(10.6)\n",
        "float('2.5')\n",
        "str(25)"
      ],
      "execution_count": null,
      "outputs": []
    },
    {
      "cell_type": "markdown",
      "metadata": {
        "id": "rqAuBdOv0Ncu"
      },
      "source": [
        "## Type Conversion\n",
        "The process of converting the value of one data type (integer, string, float, etc.) to another data type is called type conversion. Python has two types of type conversion.\n",
        "\n",
        "* Implicit Type Conversion\n",
        "* Explicit Type Conversion\n",
        "\n",
        "## Implicit Type Conversion\n",
        "In Implicit type conversion, Python converts one data type to another data type. This process doesn’t need any user involvement."
      ]
    },
    {
      "cell_type": "code",
      "metadata": {
        "id": "K0BXD3w00Wuf"
      },
      "source": [
        "var_int = 123\n",
        "var_float = 1.23\n",
        "\n",
        "var_new = var_int + var_float\n",
        "\n",
        "print(\"datatype of var_int:\",type(var_int))\n",
        "print(\"datatype of var_float:\",type(var_float))\n",
        "\n",
        "print(\"Value of num_new:\",var_new)\n",
        "print(\"datatype of var_new:\",type(var_new))"
      ],
      "execution_count": null,
      "outputs": []
    },
    {
      "cell_type": "markdown",
      "metadata": {
        "id": "tCjlM1-70bIp"
      },
      "source": [
        "### Addition of string(higher) data type and integer(lower) datatype"
      ]
    },
    {
      "cell_type": "code",
      "metadata": {
        "id": "ylNaWQut0gdA"
      },
      "source": [
        "var_int = 300\n",
        "var_str = \"500\"\n",
        "\n",
        "print(var_int + var_str)"
      ],
      "execution_count": null,
      "outputs": []
    },
    {
      "cell_type": "markdown",
      "metadata": {
        "id": "RSH742In0kFg"
      },
      "source": [
        "## Explicit Type Conversion\n",
        "\n",
        "In Explicit Type Conversion, users convert the data type of an object to required data type. Users use the predefined functions like int(), float(), str(), etc to perform explicit type conversion."
      ]
    },
    {
      "cell_type": "code",
      "metadata": {
        "id": "XNjHqTSz0o0X"
      },
      "source": [
        "num_int = 500\n",
        "num_str = \"390\"\n",
        "\n",
        "print(\"Data type of num_int:\",type(num_int))\n",
        "print(\"Data type of num_str before Type Casting:\",type(num_str))\n",
        "\n",
        "num_str = int(num_str)\n",
        "print(\"Data type of num_str after Type Casting:\",type(num_str))\n",
        "\n",
        "num_sum = num_int + num_str\n",
        "\n",
        "print(\"Sum of num_int and num_str:\",num_sum)\n",
        "print(\"Data type of the sum:\",type(num_sum))"
      ],
      "execution_count": null,
      "outputs": []
    }
  ]
}
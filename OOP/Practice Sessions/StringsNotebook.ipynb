{
 "cells": [
  {
   "cell_type": "code",
   "execution_count": 7,
   "metadata": {},
   "outputs": [
    {
     "name": "stdout",
     "output_type": "stream",
     "text": [
      "Beautiful palace \n",
      "\n",
      "Beautiful palace \n",
      "\n",
      "First Five characters : Beaut \n",
      "\n",
      "('Third_to_fifth_chars:', 'aut', '\\n')\n"
     ]
    }
   ],
   "source": [
    "# strings are mutable\n",
    "# str_object[start_pos:end_pos:step]\n",
    "# python String slicing always follows this rule: s[:i] + s[i:] == s for any index ‘i’.\n",
    "# python strings slicing\n",
    "s = 'Beautiful palace'\n",
    "print(s[:], '\\n')\n",
    "print(s[::],'\\n')\n",
    "first_five_chars = s[:5]\n",
    "print(\"First Five characters :\", first_five_chars, \"\\n\")\n",
    "third_to_fifth_chars = s[2:5]\n",
    "print((\"Third_to_fifth_chars:\", third_to_fifth_chars, \"\\n\"))"
   ]
  },
  {
   "cell_type": "code",
   "execution_count": 6,
   "metadata": {},
   "outputs": [
    {
     "name": "stdout",
     "output_type": "stream",
     "text": [
      "nohty  earn \n"
     ]
    }
   ],
   "source": [
    "# problem 2: Slicing of strings using function slice\n",
    "py_string = 'learn python'\n",
    "# start = -1, stop = -4, step = -1\n",
    "# includes indices -1, -2 and -3\n",
    "slice_object1 = slice(-1, -6, -1)\n",
    "slice_object2 = slice(1, 6, -1)\n",
    "slice_object3 = slice(1, 6, 1)\n",
    "print(py_string[slice_object1], py_string[slice_object2],py_string[slice_object3])"
   ]
  },
  {
   "cell_type": "code",
   "execution_count": 5,
   "metadata": {},
   "outputs": [
    {
     "name": "stdout",
     "output_type": "stream",
     "text": [
      "dlroWolleH\n",
      "loo\n",
      "lroWoll\n",
      "Python slice works with positive indexes  lool\n",
      "Python slice works with negative indexes  or\n"
     ]
    }
   ],
   "source": [
    "# problem 3: Slicing of strings\n",
    "# Reverse a String using Slicing\n",
    "s = 'HelloWorld'\n",
    "reverse_str = s[::-1]\n",
    "print(reverse_str)\n",
    "s1 = s[2:8:2]\n",
    "print(s1)\n",
    "s1 = s[8:1:-1]\n",
    "print(s1)\n",
    "# Python slice works with positive indexes\n",
    "s1 = s[-4:-2]\n",
    "s1 = s[8:1:-2]\n",
    "print(\"Python slice works with positive indexes \",s1)\n",
    "# Python slice works with negative indexes\n",
    "s1 = s[-4:-2]\n",
    "print(\"Python slice works with negative indexes \", s1)\n",
    "s = 'Python'\n",
    "s1=s[100:]\n",
    "s1= s[2:50]"
   ]
  },
  {
   "cell_type": "code",
   "execution_count": 8,
   "metadata": {},
   "outputs": [
    {
     "name": "stdout",
     "output_type": "stream",
     "text": [
      "substring is :  Pyt\n",
      "substring : yhn\n"
     ]
    }
   ],
   "source": [
    "# problem 4:\n",
    "# Program to get a substring from the given string\n",
    "py_string = 'Python book'\n",
    "# contains 0, 1 and 2 indices\n",
    "slice_object = slice(3)\n",
    "print(\"substring is : \", py_string[slice_object]) # Pyt\n",
    "# start = 1, stop = 6, step = 2\n",
    "# contains 1, 3 and 5 indices\n",
    "slice_object = slice(1, 6, 2)\n",
    "print(\"substring :\", py_string[slice_object]) # yin"
   ]
  },
  {
   "cell_type": "code",
   "execution_count": 9,
   "metadata": {},
   "outputs": [
    {
     "name": "stdout",
     "output_type": "stream",
     "text": [
      "['P', 'y', 't']\n",
      "('y', 'h')\n",
      "['n', 'o', 'h']\n",
      "('n', 'h')\n",
      "Pyt\n",
      "yh\n"
     ]
    }
   ],
   "source": [
    "# problem 5:\n",
    "py_list = ['P', 'y', 't', 'h', 'o', 'n']\n",
    "py_tuple = ('P', 'y', 't', 'h', 'o', 'n')\n",
    "# indices 0, 1 and 2\n",
    "slice_object = slice(3)\n",
    "print(py_list[slice_object])# ['P', 'y', 't']\n",
    "# indices 1 and 3\n",
    "slice_object = slice(1, 5, 2)\n",
    "print(py_tuple[slice_object]) # ('y', 'h')\n",
    "slice_object = slice(-1, -4, -1)\n",
    "print(py_list[slice_object]) # ['n', 'o', 'h']\n",
    "# indices -1 and -3\n",
    "slice_object = slice(-1, -5, -2)\n",
    "print(py_tuple[slice_object]) # ('n', 'h')\n",
    "py_string = 'Python'\n",
    "# indices 0, 1 and 2\n",
    "print(py_string[0:3]) # Pyt\n",
    "# indices 1 and 3\n",
    "print(py_string[1:5:2])"
   ]
  }
 ],
 "metadata": {
  "interpreter": {
   "hash": "558802ee62ad00077b1e13aabce3970070a978d35856ddf482faf180fa7e2679"
  },
  "kernelspec": {
   "display_name": "Python 3.9.4 64-bit",
   "name": "python3"
  },
  "language_info": {
   "name": "python",
   "version": "3.9.4"
  },
  "orig_nbformat": 4
 },
 "nbformat": 4,
 "nbformat_minor": 2
}

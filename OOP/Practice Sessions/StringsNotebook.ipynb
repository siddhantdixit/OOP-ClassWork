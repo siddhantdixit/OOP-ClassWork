{
 "cells": [
  {
   "cell_type": "code",
   "execution_count": 7,
   "source": [
    "# strings are mutable\r\n",
    "# str_object[start_pos:end_pos:step]\r\n",
    "# python String slicing always follows this rule: s[:i] + s[i:] == s for any index ‘i’.\r\n",
    "# python strings slicing\r\n",
    "s = 'Beautiful palace'\r\n",
    "print(s[:], '\\n')\r\n",
    "print(s[::],'\\n')\r\n",
    "first_five_chars = s[:5]\r\n",
    "print(\"First Five characters :\", first_five_chars, \"\\n\")\r\n",
    "third_to_fifth_chars = s[2:5]\r\n",
    "print((\"Third_to_fifth_chars:\", third_to_fifth_chars, \"\\n\"))"
   ],
   "outputs": [
    {
     "output_type": "stream",
     "name": "stdout",
     "text": [
      "Beautiful palace \n",
      "\n",
      "Beautiful palace \n",
      "\n",
      "First Five characters : Beaut \n",
      "\n",
      "('Third_to_fifth_chars:', 'aut', '\\n')\n"
     ]
    }
   ],
   "metadata": {}
  },
  {
   "cell_type": "code",
   "execution_count": 6,
   "source": [
    "# problem 2: Slicing of strings using function slice\r\n",
    "py_string = 'learn python'\r\n",
    "# start = -1, stop = -4, step = -1\r\n",
    "# includes indices -1, -2 and -3\r\n",
    "slice_object1 = slice(-1, -6, -1)\r\n",
    "slice_object2 = slice(1, 6, -1)\r\n",
    "slice_object3 = slice(1, 6, 1)\r\n",
    "print(py_string[slice_object1], py_string[slice_object2],py_string[slice_object3])"
   ],
   "outputs": [
    {
     "output_type": "stream",
     "name": "stdout",
     "text": [
      "nohty  earn \n"
     ]
    }
   ],
   "metadata": {}
  },
  {
   "cell_type": "code",
   "execution_count": 5,
   "source": [
    "# problem 3: Slicing of strings\r\n",
    "# Reverse a String using Slicing\r\n",
    "s = 'HelloWorld'\r\n",
    "reverse_str = s[::-1]\r\n",
    "print(reverse_str)\r\n",
    "s1 = s[2:8:2]\r\n",
    "print(s1)\r\n",
    "s1 = s[8:1:-1]\r\n",
    "print(s1)\r\n",
    "# Python slice works with positive indexes\r\n",
    "s1 = s[-4:-2]\r\n",
    "s1 = s[8:1:-2]\r\n",
    "print(\"Python slice works with positive indexes \",s1)\r\n",
    "# Python slice works with negative indexes\r\n",
    "s1 = s[-4:-2]\r\n",
    "print(\"Python slice works with negative indexes \", s1)\r\n",
    "s = 'Python'\r\n",
    "s1=s[100:]\r\n",
    "s1= s[2:50]"
   ],
   "outputs": [
    {
     "output_type": "stream",
     "name": "stdout",
     "text": [
      "dlroWolleH\n",
      "loo\n",
      "lroWoll\n",
      "Python slice works with positive indexes  lool\n",
      "Python slice works with negative indexes  or\n"
     ]
    }
   ],
   "metadata": {}
  },
  {
   "cell_type": "code",
   "execution_count": 8,
   "source": [
    "# problem 4:\r\n",
    "# Program to get a substring from the given string\r\n",
    "py_string = 'Python book'\r\n",
    "# contains 0, 1 and 2 indices\r\n",
    "slice_object = slice(3)\r\n",
    "print(\"substring is : \", py_string[slice_object]) # Pyt\r\n",
    "# start = 1, stop = 6, step = 2\r\n",
    "# contains 1, 3 and 5 indices\r\n",
    "slice_object = slice(1, 6, 2)\r\n",
    "print(\"substring :\", py_string[slice_object]) # yin"
   ],
   "outputs": [
    {
     "output_type": "stream",
     "name": "stdout",
     "text": [
      "substring is :  Pyt\n",
      "substring : yhn\n"
     ]
    }
   ],
   "metadata": {}
  },
  {
   "cell_type": "code",
   "execution_count": 9,
   "source": [
    "# problem 5:\r\n",
    "py_list = ['P', 'y', 't', 'h', 'o', 'n']\r\n",
    "py_tuple = ('P', 'y', 't', 'h', 'o', 'n')\r\n",
    "# indices 0, 1 and 2\r\n",
    "slice_object = slice(3)\r\n",
    "print(py_list[slice_object])# ['P', 'y', 't']\r\n",
    "# indices 1 and 3\r\n",
    "slice_object = slice(1, 5, 2)\r\n",
    "print(py_tuple[slice_object]) # ('y', 'h')\r\n",
    "slice_object = slice(-1, -4, -1)\r\n",
    "print(py_list[slice_object]) # ['n', 'o', 'h']\r\n",
    "# indices -1 and -3\r\n",
    "slice_object = slice(-1, -5, -2)\r\n",
    "print(py_tuple[slice_object]) # ('n', 'h')\r\n",
    "py_string = 'Python'\r\n",
    "# indices 0, 1 and 2\r\n",
    "print(py_string[0:3]) # Pyt\r\n",
    "# indices 1 and 3\r\n",
    "print(py_string[1:5:2])"
   ],
   "outputs": [
    {
     "output_type": "stream",
     "name": "stdout",
     "text": [
      "['P', 'y', 't']\n",
      "('y', 'h')\n",
      "['n', 'o', 'h']\n",
      "('n', 'h')\n",
      "Pyt\n",
      "yh\n"
     ]
    }
   ],
   "metadata": {}
  }
 ],
 "metadata": {
  "orig_nbformat": 4,
  "language_info": {
   "name": "python",
   "version": "3.9.4"
  },
  "kernelspec": {
   "name": "python3",
   "display_name": "Python 3.9.4 64-bit"
  },
  "interpreter": {
   "hash": "558802ee62ad00077b1e13aabce3970070a978d35856ddf482faf180fa7e2679"
  }
 },
 "nbformat": 4,
 "nbformat_minor": 2
}
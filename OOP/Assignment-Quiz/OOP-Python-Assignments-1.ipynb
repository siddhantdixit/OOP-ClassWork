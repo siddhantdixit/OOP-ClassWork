{
  "nbformat": 4,
  "nbformat_minor": 2,
  "metadata": {
    "colab": {
      "name": "OOP-Python-Assignments-1",
      "provenance": [],
      "collapsed_sections": [],
      "authorship_tag": "ABX9TyPnqTOTBRG0XP4avGymoian",
      "include_colab_link": true
    },
    "kernelspec": {
      "name": "python3",
      "display_name": "Python 3"
    },
    "language_info": {
      "name": "python"
    }
  },
  "cells": [
    {
      "cell_type": "markdown",
      "source": [
        "<a href=\"https://colab.research.google.com/github/siddhantdixit/OOP-ClassWork/blob/main/OOP-Python-Assignments-1.ipynb\" target=\"_parent\"><img src=\"https://colab.research.google.com/assets/colab-badge.svg\" alt=\"Open In Colab\"/></a>"
      ],
      "metadata": {
        "id": "view-in-github",
        "colab_type": "text"
      }
    },
    {
      "cell_type": "markdown",
      "source": [
        "# Python Assignment"
      ],
      "metadata": {}
    },
    {
      "cell_type": "markdown",
      "source": [
        "### Program -1"
      ],
      "metadata": {
        "id": "qBmUBiCrKKrp"
      }
    },
    {
      "cell_type": "code",
      "execution_count": null,
      "source": [
        "''' The example below shows how different variables are assigned. \r\n",
        "The same variables are printed '''\r\n",
        "\r\n",
        "#!/usr/bin/python\r\n",
        "\r\n",
        "x = 30              # a whole number                   \r\n",
        "f = 3.1415926      # a floating point number              \r\n",
        "myName = \"OOP using Python\"    # a string variable - Camel casing\r\n",
        "print(x)\r\n",
        "print(f)\r\n",
        "print(myName)\r\n",
        "combination = myName + \" \" + myName\r\n",
        "print(combination)\r\n",
        "sum = f + f\r\n",
        "print(sum) \r\n"
      ],
      "outputs": [],
      "metadata": {
        "id": "WiTH8r28Knwk"
      }
    },
    {
      "cell_type": "code",
      "execution_count": null,
      "source": [],
      "outputs": [],
      "metadata": {
        "id": "HW2TsgogKp73"
      }
    },
    {
      "cell_type": "markdown",
      "source": [
        "### Program -2 "
      ],
      "metadata": {
        "id": "Ibd8J9HmKxf5"
      }
    },
    {
      "cell_type": "code",
      "execution_count": null,
      "source": [
        "# Problem 2     Python strings \r\n",
        "x = \"Welcome to OOP Course\"\r\n",
        "print(x)\r\n",
        "print(x[0])       # indexing starts from 0\r\n",
        "print(x[1])\r\n",
        "s = x[0:3]        # substring \r\n",
        "print(s)\r\n",
        "t = x[8:10]     # indexing \r\n",
        "print(t)\r\n",
        "s = \"My lucky number is %d, what is yours?\" % 7          # Combine numbers and text\r\n",
        "print(s)\r\n",
        "s = \"My lucky number is \" + str(7) + \", what is yours?\"   # alternative method of combining numbers and text\r\n",
        "print(s)"
      ],
      "outputs": [],
      "metadata": {
        "id": "HVI62M89K_D4"
      }
    },
    {
      "cell_type": "code",
      "execution_count": null,
      "source": [],
      "outputs": [],
      "metadata": {
        "id": "Yrr3CydELACm"
      }
    },
    {
      "cell_type": "markdown",
      "source": [
        "### Program -3 "
      ],
      "metadata": {
        "id": "oueKuixrLA8q"
      }
    },
    {
      "cell_type": "code",
      "execution_count": null,
      "source": [
        "# Problem 3 - Use string functions\r\n",
        "s = \"OOP Course is offered in IIIT DWD\"\r\n",
        "s = s.replace(\"OOP\",\"CS\")\r\n",
        "index = s.find(\"IIIT DWD\")\r\n",
        "if \"IIIT DWD\" in s:\r\n",
        "    print(\"Institute found\")\r\n",
        "print(s,\"\\n\", index)"
      ],
      "outputs": [],
      "metadata": {
        "id": "WaJyreUFLHuN"
      }
    },
    {
      "cell_type": "code",
      "execution_count": null,
      "source": [],
      "outputs": [],
      "metadata": {
        "id": "RiKENL92LJQD"
      }
    },
    {
      "cell_type": "markdown",
      "source": [
        "### Program 4"
      ],
      "metadata": {
        "id": "dC5nz_H0LKQi"
      }
    },
    {
      "cell_type": "code",
      "execution_count": null,
      "source": [
        "# Problem 4 \r\n",
        "\r\n",
        "# define strings                                                         \r\n",
        "firstName = \"OOP\"\r\n",
        "lastName = \"Course\"\r\n",
        "words = [\"How\",\"are\",\"you\",\"learning \", \"OOP \" , \"Course\",\"?\"]\r\n",
        "\r\n",
        "sentence = ' '.join(words)\r\n",
        "print(sentence)\r\n"
      ],
      "outputs": [],
      "metadata": {
        "id": "ogSQL_wsLMFj"
      }
    },
    {
      "cell_type": "code",
      "execution_count": null,
      "source": [],
      "outputs": [],
      "metadata": {
        "id": "QotTPifVLQuK"
      }
    },
    {
      "cell_type": "markdown",
      "source": [
        "### Program 5"
      ],
      "metadata": {
        "id": "tH0wxSWwLR2g"
      }
    },
    {
      "cell_type": "code",
      "execution_count": null,
      "source": [
        "# Problem 5 \r\n",
        "s = \"OOP course is easy to Learn\"\r\n",
        "words = s.split()        # splits sentence into list of words\r\n",
        "print(words, len(s))\r\n",
        "\r\n",
        "x = list(words[0])   # splits word in character\r\n",
        "print(x)"
      ],
      "outputs": [],
      "metadata": {
        "id": "54WrzhoILXoA"
      }
    },
    {
      "cell_type": "markdown",
      "source": [
        "### Program 6"
      ],
      "metadata": {
        "id": "KKhoM8cSLY6T"
      }
    },
    {
      "cell_type": "code",
      "execution_count": null,
      "source": [
        "# problem 6\r\n",
        "\r\n",
        "import random\r\n",
        "\r\n",
        "# Create a random floating point number and print it.\r\n",
        "print(random.random())\r\n",
        "\r\n",
        "# pick a random whole number between 0 and 10.\r\n",
        "print(random.randrange(0,15))\r\n",
        "\r\n",
        "# pick a random floating point number between 0 and 10.\r\n",
        "print(random.uniform(0,10))"
      ],
      "outputs": [],
      "metadata": {
        "id": "6AFAUbc0LeW4"
      }
    },
    {
      "cell_type": "code",
      "execution_count": null,
      "source": [],
      "outputs": [],
      "metadata": {
        "id": "BOISzg2mLfhm"
      }
    },
    {
      "cell_type": "markdown",
      "source": [
        "### Program 7"
      ],
      "metadata": {
        "id": "BAI2ekPyLgX0"
      }
    },
    {
      "cell_type": "code",
      "execution_count": null,
      "source": [
        "# problem 7\r\n",
        "\r\n",
        "#!/usr/bin/env python3\r\n",
        "\r\n",
        "name = input('What is your name? ')\r\n",
        "print('Welcome to OOP Course ' + name)\r\n",
        "\r\n",
        "qualification = input('What is your Qualification? ')\r\n",
        "print(name + \"'s\" + ' 90Educational Qualification  is ' + qualification)\r\n",
        "\r\n",
        "phoneNum = input('Give me pohone number? ')\r\n",
        "print('Phone number is : ' + str(phoneNum))\r\n"
      ],
      "outputs": [],
      "metadata": {
        "id": "ibI3tlJXLiji"
      }
    },
    {
      "cell_type": "markdown",
      "source": [
        "### Program 8"
      ],
      "metadata": {
        "id": "5bfyR3uWMh-z"
      }
    },
    {
      "cell_type": "code",
      "execution_count": null,
      "source": [
        "# problem 8    interactive program\r\n",
        "\r\n",
        "#!/usr/bin/env python3\r\n",
        "\r\n",
        "gender = input(\"Gender? \")\r\n",
        "gender = gender.lower()\r\n",
        "if gender == \"male\":\r\n",
        "    print(\" cat is male\")\r\n",
        "elif gender == \"female\":\r\n",
        "    print(\"cat is female\")\r\n",
        "else:\r\n",
        "    print(\"Invalid input\")\r\n",
        "age = int(input(\"Age of your cat? \"))\r\n",
        "\r\n",
        "if age < 5:\r\n",
        "    print(\"cat age is\", age)\r\n",
        "else:\r\n",
        "    print(\"Your cat is adult.\")\r\n",
        "\r\n",
        "x = 3\r\n",
        "if x == 2:\r\n",
        "    print('two')\r\n",
        "elif x == 3:\r\n",
        "    print('three')\r\n",
        "elif x == 4:\r\n",
        "    print('four')\r\n",
        "else:\r\n",
        "    print('something else')\r\n"
      ],
      "outputs": [],
      "metadata": {
        "id": "g6Kuf5jzMoOa"
      }
    },
    {
      "cell_type": "markdown",
      "source": [
        "### Program 9 - Loops"
      ],
      "metadata": {
        "id": "Dq6ciHBINFzZ"
      }
    },
    {
      "cell_type": "code",
      "execution_count": null,
      "source": [
        "# Problem 9   \r\n",
        "#!/usr/bin/env python3\r\n",
        "# The first loop will repeat the print function for every item of the list.\r\n",
        "# The second loop will do a calculation on every element of the list num and print the result.\r\n",
        "\r\n",
        "city = ['Tokyo','New York','Toronto','Hong Kong']\r\n",
        "print('Cities loop:')\r\n",
        "for x in city:\r\n",
        "    print('City: ' + x)\r\n",
        "\r\n",
        "# problem 10\r\n",
        "\r\n",
        "x = 3                              \r\n",
        "while x < 10:\r\n",
        "    print(x)\r\n",
        "    x = x + 1"
      ],
      "outputs": [],
      "metadata": {
        "id": "w9NGvgdxNKmJ"
      }
    },
    {
      "cell_type": "markdown",
      "source": [
        "### Program 10 "
      ],
      "metadata": {
        "id": "_X5BOwB4NfOH"
      }
    },
    {
      "cell_type": "code",
      "execution_count": null,
      "source": [
        "# problem 10 - functions without  parameters\r\n",
        "\r\n",
        "def currentYear():\r\n",
        "    print('2018')\r\n",
        "currentYear()    \r\n",
        "\r\n",
        "\r\n",
        "def f(x,y):     # with parameters\r\n",
        "    return x*y\r\n",
        "print(f(3,4))\r\n",
        "result = f(3,4)   # return to a variable \r\n",
        "print(result)\r\n",
        "print('\\n')  # newline\r\n",
        "\r\n",
        "\r\n",
        "num = [1,2,3,4,5,6,7,8,9]\r\n",
        "print('x^2 loop:')\r\n",
        "for x in num:\r\n",
        "    y = x * x\r\n",
        "    print(str(x) + '*' + str(x) + '=' + str(y))\r\n",
        "\r\n",
        "# Python lists\r\n",
        "pythonList = [ \"New York\", \"Los Angles\", \"Boston\", \"Denver\" ]\r\n",
        "\r\n",
        "print(pythonList)     # prints all elements\r\n",
        "print(pythonList[0])  # print first element\r\n",
        "print(pythonList[-1])\r\n",
        "   "
      ],
      "outputs": [],
      "metadata": {
        "id": "sQc7hsGKNoSK"
      }
    },
    {
      "cell_type": "code",
      "execution_count": null,
      "source": [],
      "outputs": [],
      "metadata": {
        "id": "JAtHTENNNPuD"
      }
    }
  ]
}